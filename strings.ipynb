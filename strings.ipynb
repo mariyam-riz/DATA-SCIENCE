{
 "cells": [
  {
   "cell_type": "markdown",
   "metadata": {},
   "source": []
  },
  {
   "cell_type": "markdown",
   "metadata": {},
   "source": [
    "STRINGS\n",
    "- creation\n",
    "- indexing and slicing\n",
    "- methods\n"
   ]
  },
  {
   "cell_type": "code",
   "execution_count": null,
   "metadata": {},
   "outputs": [
    {
     "name": "stdout",
     "output_type": "stream",
     "text": [
      "hello this is a \n",
      "python program\n",
      "hahahahahahahahahaha\n",
      "10 <class 'str'>\n"
     ]
    }
   ],
   "source": [
    "#creating simple strings\n",
    "s = 'hello'\n",
    "s1 = \"hello\"\n",
    "s2 = '''hello this is a \n",
    "python program'''\n",
    "w = 'ha' * 10\n",
    "print(s2)\n",
    "print(w)\n",
    "\n",
    "#creating string using typecasting\n",
    "a = 10 \n",
    "b = str(a)\n",
    "print(b,type(b))"
   ]
  },
  {
   "cell_type": "code",
   "execution_count": null,
   "metadata": {},
   "outputs": [
    {
     "name": "stdout",
     "output_type": "stream",
     "text": [
      "from turtle import*\n",
      "speed('fastest')\n",
      "pensize(2)\n",
      "bgcolor('black')\n",
      "pencolor('white')\n",
      "side = 6\n",
      "for i in range(side):\n",
      "    fd(100)\n",
      "    for i in range(side):\n",
      "        fd(100)\n",
      "        lt(360/side)\n",
      "    lt(360/side)\n",
      "mainloop()\n"
     ]
    }
   ],
   "source": [
    "#crating strings using already existing text files.print\n",
    "\n",
    "data = open ('t4.py').read() # open is used to load data and read is used to read data.\n",
    "print (data)                 # can only be used for text files."
   ]
  },
  {
   "cell_type": "code",
   "execution_count": null,
   "metadata": {},
   "outputs": [],
   "source": [
    "print(\"hy\")"
   ]
  },
  {
   "cell_type": "code",
   "execution_count": null,
   "metadata": {},
   "outputs": [
    {
     "name": "stdout",
     "output_type": "stream",
     "text": [
      "h\n",
      "e\n",
      "l\n",
      "l\n",
      "o\n"
     ]
    }
   ],
   "source": [
    "#indexing\n",
    "s = 'hello'\n",
    "print(s[0])\n",
    "print(s[1])\n",
    "print(s[2])\n",
    "print(s[3])\n",
    "print(s[4])\n",
    "print(s[-1])# last character\n",
    "print(s[0])# first character\n"
   ]
  },
  {
   "cell_type": "code",
   "execution_count": null,
   "metadata": {},
   "outputs": [
    {
     "name": "stdout",
     "output_type": "stream",
     "text": [
      "Shake\n",
      "Will\n",
      "pear\n",
      "Will\n",
      "Shakespeare\n",
      "WlimSaepae\n",
      "eraepsekahS mailliW\n"
     ]
    }
   ],
   "source": [
    "#slicing\n",
    "name  = 'William Shakespeare'\n",
    "print(name[8:-6])\n",
    "print(name[0:4])\n",
    "print(name[-5:-1])\n",
    "b = name[:4] \n",
    "print(b)\n",
    "d = name[8:]\n",
    "print(d)\n",
    "c = name[::2] #step(even characters)\n",
    "print(c)\n",
    "f = name[1::2] #step(odd characters)\n",
    "print(f)\n",
    "e = name[::-1] #reverse\n",
    "print(e)"
   ]
  },
  {
   "cell_type": "markdown",
   "metadata": {},
   "source": [
    "METHODS\n",
    "- utility method\n",
    "   - count\n",
    "   - find\n",
    "   - replace \n",
    "   - split\n",
    "   - join \n",
    "   - strip\n",
    "\n",
    "- formatting method\n",
    "   - capitalize \n",
    "   - title \n",
    "   - upper\n",
    "   - lower\n",
    "   - swapcase\n",
    "   - casefold\n",
    "- validation method\n",
    "   - isalnum\n",
    "   - isalpha\n",
    "   - isdigit\n",
    "   - islower\n",
    "   - isupper\n",
    "   - istitle\n",
    "   - isspace\n"
   ]
  },
  {
   "cell_type": "code",
   "execution_count": null,
   "metadata": {},
   "outputs": [],
   "source": [
    "msg = '''this is a story about kingdom of south India \n",
    "lead by the hoyasala dynasty kings'''"
   ]
  },
  {
   "cell_type": "code",
   "execution_count": null,
   "metadata": {},
   "outputs": [
    {
     "name": "stdout",
     "output_type": "stream",
     "text": [
      "8\n",
      "2\n",
      "0\n"
     ]
    }
   ],
   "source": [
    "#count functions is used to count the number of substrings\n",
    "print(msg.count('a'))\n",
    "print(msg.count('out'))\n",
    "print(msg.count('the'))"
   ]
  },
  {
   "cell_type": "code",
   "execution_count": null,
   "metadata": {},
   "outputs": [
    {
     "name": "stdout",
     "output_type": "stream",
     "text": [
      "21\n"
     ]
    }
   ],
   "source": [
    "num_vowels = msg.count('a')+msg.count('e')+msg.count('i')+msg.count('o')+msg.count('u')\n",
    "print(num_vowels)"
   ]
  },
  {
   "cell_type": "code",
   "execution_count": null,
   "metadata": {},
   "outputs": [
    {
     "name": "stdout",
     "output_type": "stream",
     "text": [
      "a = 8\n",
      "e = 9\n",
      "i = 13\n",
      "o = 19\n",
      "u = 21\n"
     ]
    }
   ],
   "source": [
    "tvs = 0 \n",
    "for c in 'aeiou':\n",
    "    tvs += msg.count(c)\n",
    "    print(c,'=',tvs)"
   ]
  },
  {
   "cell_type": "code",
   "execution_count": null,
   "metadata": {},
   "outputs": [
    {
     "name": "stdout",
     "output_type": "stream",
     "text": [
      "10\n",
      "18\n",
      "34\n"
     ]
    }
   ],
   "source": [
    "#find function\n",
    "print(msg.find('story'))#only gives the index of the first letter\n",
    "print(msg.find('out'))\n",
    "print(msg.find('out',19))#find 'out' even if it has appeared one time\n"
   ]
  },
  {
   "cell_type": "code",
   "execution_count": null,
   "metadata": {},
   "outputs": [
    {
     "data": {
      "text/plain": [
       "'this is  story bout kingdom of south Indi \\nled by the hoysl dynsty kings'"
      ]
     },
     "execution_count": 43,
     "metadata": {},
     "output_type": "execute_result"
    }
   ],
   "source": [
    "msg.replace('out','in')\n",
    "msg.replace('a','')"
   ]
  },
  {
   "cell_type": "code",
   "execution_count": null,
   "metadata": {},
   "outputs": [
    {
     "name": "stdout",
     "output_type": "stream",
     "text": [
      "this is a story about kingdom of south India \n",
      "lead by the hoyasala dynasty kings\n",
      "ths s  stry bt kngdm f sth Ind \n",
      "ld by th hysl dynsty kngs\n"
     ]
    }
   ],
   "source": [
    "copy = msg\n",
    "for c in 'aeiou':\n",
    "     copy=copy.replace(c,'')\n",
    "print(msg)\n",
    "print(copy)"
   ]
  },
  {
   "cell_type": "code",
   "execution_count": null,
   "metadata": {},
   "outputs": [
    {
     "data": {
      "text/plain": [
       "['this', 'is', 'a', 'message']"
      ]
     },
     "execution_count": 1,
     "metadata": {},
     "output_type": "execute_result"
    }
   ],
   "source": [
    "#split\n",
    "data = \"this is a message\"\n",
    "data.split()"
   ]
  },
  {
   "cell_type": "code",
   "execution_count": null,
   "metadata": {},
   "outputs": [
    {
     "name": "stdout",
     "output_type": "stream",
     "text": [
      "['life before death', '\\nstrength befor weakness', '\\njourney before destination']\n",
      "9\n"
     ]
    }
   ],
   "source": [
    "quote = '''life before death,\n",
    "strength befor weakness,\n",
    "journey before destination'''\n",
    "print(quote.split(','))#here the character within the braces defines where to break or split the sentence\n",
    "print(len(quote.split()))"
   ]
  },
  {
   "cell_type": "code",
   "execution_count": null,
   "metadata": {},
   "outputs": [
    {
     "data": {
      "text/plain": [
       "['life before death,',\n",
       " 'strength befor weakness,',\n",
       " 'journey before destination']"
      ]
     },
     "execution_count": 9,
     "metadata": {},
     "output_type": "execute_result"
    }
   ],
   "source": [
    "quote.splitlines()#splits according to the number of lines"
   ]
  },
  {
   "cell_type": "code",
   "execution_count": null,
   "metadata": {},
   "outputs": [
    {
     "name": "stdout",
     "output_type": "stream",
     "text": [
      "hitherehowareyou\n",
      "hi_there_how_are_you\n"
     ]
    }
   ],
   "source": [
    "msg = ['hi','there','how','are','you']\n",
    "print(''.join(msg)) # here the spaces are used to join the words\n",
    "print('_'.join(msg)) # here the underscores are used to join the words\n"
   ]
  },
  {
   "cell_type": "code",
   "execution_count": null,
   "metadata": {},
   "outputs": [
    {
     "name": "stdout",
     "output_type": "stream",
     "text": [
      "11\n",
      "john cena\n",
      "9\n"
     ]
    }
   ],
   "source": [
    "x = ' john cena '#consist of spaces at thhe beginnig and  ending\n",
    "print(len(x))\n",
    "x = x.strip() # removes the leading and trailing spaces within the word \n",
    "print(x)\n",
    "print(len(x))"
   ]
  },
  {
   "cell_type": "code",
   "execution_count": null,
   "metadata": {},
   "outputs": [
    {
     "name": "stdout",
     "output_type": "stream",
     "text": [
      "\u001b[1;31mDocstring:\u001b[0m\n",
      "S.count(sub[, start[, end]]) -> int\n",
      "\n",
      "Return the number of non-overlapping occurrences of substring sub in\n",
      "string S[start:end].  Optional arguments start and end are\n",
      "interpreted as in slice notation.\n",
      "\u001b[1;31mType:\u001b[0m      builtin_function_or_method"
     ]
    }
   ],
   "source": [
    "#? is used to get info about functions.It is specific to ipynb files\n",
    "x.count?"
   ]
  },
  {
   "cell_type": "code",
   "execution_count": null,
   "metadata": {},
   "outputs": [
    {
     "name": "stdout",
     "output_type": "stream",
     "text": [
      "Help on built-in function eval in module builtins:\n",
      "\n",
      "eval(source, globals=None, locals=None, /)\n",
      "    Evaluate the given source in the context of globals and locals.\n",
      "    \n",
      "    The source may be a string representing a Python expression\n",
      "    or a code object as returned by compile().\n",
      "    The globals must be a dictionary and locals can be any mapping,\n",
      "    defaulting to the current globals and locals.\n",
      "    If only globals is given, locals defaults to it.\n",
      "\n"
     ]
    }
   ],
   "source": [
    "#it is also used as an alternative for?\n",
    "help(eval)\n"
   ]
  },
  {
   "cell_type": "code",
   "execution_count": null,
   "metadata": {},
   "outputs": [],
   "source": []
  },
  {
   "cell_type": "markdown",
   "metadata": {},
   "source": [
    "FORMATTING FUNCTIONS"
   ]
  },
  {
   "cell_type": "code",
   "execution_count": null,
   "metadata": {},
   "outputs": [
    {
     "name": "stdout",
     "output_type": "stream",
     "text": [
      "MARIYAM RIZWAN\n",
      "mariyam rizwan\n",
      "Mariyam rizwan\n",
      "mARIYAM rIZWAN\n",
      "mariyam rizwan\n"
     ]
    }
   ],
   "source": [
    "name = 'Mariyam Rizwan'\n",
    "print(name.upper())\n",
    "print(name.lower())\n",
    "print(name.capitalize())#only the first chracter of the string \n",
    "print(name.swapcase())\n",
    "print(name.casefold())"
   ]
  },
  {
   "cell_type": "code",
   "execution_count": null,
   "metadata": {},
   "outputs": [],
   "source": []
  },
  {
   "cell_type": "markdown",
   "metadata": {},
   "source": [
    "VALIDATION FUNCTIONS"
   ]
  },
  {
   "cell_type": "markdown",
   "metadata": {},
   "source": []
  },
  {
   "cell_type": "code",
   "execution_count": null,
   "metadata": {},
   "outputs": [
    {
     "name": "stdout",
     "output_type": "stream",
     "text": [
      "True\n",
      "False\n",
      "False\n",
      "False\n",
      "False\n",
      "False\n",
      "True\n"
     ]
    }
   ],
   "source": [
    "X = 'john cena '\n",
    "print(x.islower())\n",
    "print(x.isupper())\n",
    "print(x.isnumeric())\n",
    "print(x.isalpha())\n",
    "print(x.isalnum())\n",
    "print(x.isspace())\n",
    "print(x.isprintable())"
   ]
  },
  {
   "cell_type": "code",
   "execution_count": null,
   "metadata": {},
   "outputs": [
    {
     "data": {
      "text/plain": [
       "'hy are'"
      ]
     },
     "execution_count": 31,
     "metadata": {},
     "output_type": "execute_result"
    }
   ],
   "source": [
    "#wap to take a string from user then print only the words that are even index\n",
    "\" \".join(input('enter a string').split()[::2])"
   ]
  },
  {
   "cell_type": "code",
   "execution_count": null,
   "metadata": {},
   "outputs": [
    {
     "name": "stdout",
     "output_type": "stream",
     "text": [
      "hy              2\n",
      "hello           5\n",
      "mariyam         7\n",
      "mariyam(7)is largest\n"
     ]
    }
   ],
   "source": [
    "#wap to take string from the user and then display the size of each word and also display the word with maximum size\n",
    "str = input('enter a string')\n",
    "largest_word = ''\n",
    "largest_word_len = 0\n",
    "for word in str.split():\n",
    "    if len(word)> largest_word_len:\n",
    "        largest_word = word\n",
    "        largest_word_len = len(word)\n",
    "    print(f'{word:15} {len(word)}')\n",
    "print(f'{largest_word}({largest_word_len})is largest')\n"
   ]
  },
  {
   "cell_type": "code",
   "execution_count": null,
   "metadata": {},
   "outputs": [],
   "source": []
  }
 ],
 "metadata": {
  "kernelspec": {
   "display_name": "base",
   "language": "python",
   "name": "python3"
  },
  "language_info": {
   "codemirror_mode": {
    "name": "ipython",
    "version": 3
   },
   "file_extension": ".py",
   "mimetype": "text/x-python",
   "name": "python",
   "nbconvert_exporter": "python",
   "pygments_lexer": "ipython3",
   "version": "3.10.5"
  },
  "orig_nbformat": 4
 },
 "nbformat": 4,
 "nbformat_minor": 2
}
