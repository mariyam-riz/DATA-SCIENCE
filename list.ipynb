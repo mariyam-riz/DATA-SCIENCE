{
 "cells": [
  {
   "cell_type": "markdown",
   "metadata": {},
   "source": [
    "### list\n",
    "- indexed,ordered,mutable,allows duplicate elements,heterogenous,'[]','list()'\n",
    "### tuple\n",
    "- indexed,ordered,**immutable**,allows duplicate elements,heterogenous,'()','tuple'\n",
    "### set\n",
    "- **unordered**, mutable,**does not allows duplicate elements**,heterogenous,'{}','set()'\n",
    "### dictionary\n",
    "- **unordered**, mutable,**does not allows duplicate elements**,heterogenous,key:value pairs,'{}','dict()'\n"
   ]
  },
  {
   "cell_type": "code",
   "execution_count": null,
   "metadata": {},
   "outputs": [],
   "source": []
  },
  {
   "cell_type": "markdown",
   "metadata": {},
   "source": [
    "# list\n",
    "- creating \n",
    "- indexing and slicing\n",
    "- methods(11methods)\n",
    "- lists comprehensions\n"
   ]
  },
  {
   "cell_type": "markdown",
   "metadata": {},
   "source": []
  },
  {
   "cell_type": "code",
   "execution_count": null,
   "metadata": {},
   "outputs": [
    {
     "ename": "",
     "evalue": "",
     "output_type": "error",
     "traceback": [
      "\u001b[1;31mRunning cells with 'c:\\Users\\ASUS\\AppData\\Local\\Programs\\Python\\Python310\\python.exe' requires the ipykernel package.\n",
      "\u001b[1;31mRun the following command to install 'ipykernel' into the Python environment. \n",
      "\u001b[1;31mCommand: 'c:/Users/ASUS/AppData/Local/Programs/Python/Python310/python.exe -m pip install ipykernel -U --user --force-reinstall'"
     ]
    }
   ],
   "source": [
    "x = [1,2,3,4,5]\n",
    "names = ['John','Paul','George','Ringo']\n",
    "mix = [1,'John',3.14,'True']\n",
    "nested = [[1,2,3],[4,5,6],[7,8,9]]\n",
    "empty = []\n",
    "cloned = [1,2,3,4,5]*5\n",
    "words = 'this is mariyam'.split()\n",
    "chars = list('Alexander')"
   ]
  },
  {
   "cell_type": "code",
   "execution_count": 36,
   "metadata": {},
   "outputs": [
    {
     "name": "stdout",
     "output_type": "stream",
     "text": [
      "1\n",
      "5\n"
     ]
    }
   ],
   "source": [
    "print(x[0])\n",
    "print(x[-1])\n",
    "x [0] = 100 #updating value at index 0,hence mutable"
   ]
  },
  {
   "cell_type": "code",
   "execution_count": 37,
   "metadata": {},
   "outputs": [
    {
     "name": "stdout",
     "output_type": "stream",
     "text": [
      "['A', 'l', 'e', 'x', 'a']\n",
      "['r', 'e', 'd', 'n', 'a', 'x', 'e', 'l', 'A']\n"
     ]
    }
   ],
   "source": [
    "print(chars[:5])\n",
    "print(chars[::-1])"
   ]
  },
  {
   "cell_type": "code",
   "execution_count": 38,
   "metadata": {},
   "outputs": [
    {
     "name": "stdout",
     "output_type": "stream",
     "text": [
      "\n"
     ]
    },
    {
     "ename": "TypeError",
     "evalue": "list.append() takes exactly one argument (0 given)",
     "output_type": "error",
     "traceback": [
      "\u001b[1;31m---------------------------------------------------------------------------\u001b[0m",
      "\u001b[1;31mTypeError\u001b[0m                                 Traceback (most recent call last)",
      "Cell \u001b[1;32mIn[38], line 5\u001b[0m\n\u001b[0;32m      3\u001b[0m \u001b[39mprint\u001b[39m()\n\u001b[0;32m      4\u001b[0m \u001b[39m#methods are linked to a variable\u001b[39;00m\n\u001b[1;32m----> 5\u001b[0m x\u001b[39m.\u001b[39;49mappend()\n",
      "\u001b[1;31mTypeError\u001b[0m: list.append() takes exactly one argument (0 given)"
     ]
    }
   ],
   "source": [
    "#difference b/w mwthod and fumctions\n",
    "#function is directly called and are not related to any variable\n",
    "print()\n",
    "#methods are linked to a variable\n",
    "x.append()"
   ]
  },
  {
   "cell_type": "markdown",
   "metadata": {},
   "source": [
    "# adding\n",
    " - append()- adds element to the end of the list\n",
    " - extend()- adds all elements of one list to another list\n",
    " - insert()- adds an element at a specific index\n",
    "# removing\n",
    " - remove()\n",
    " - pop()\n",
    " - clear()\n",
    "# utility methods\n",
    " - count()\n",
    " - index()\n",
    " - sort()  \n",
    " - reverse()\n",
    " - copy()"
   ]
  },
  {
   "cell_type": "markdown",
   "metadata": {},
   "source": [
    "adding"
   ]
  },
  {
   "cell_type": "code",
   "execution_count": null,
   "metadata": {},
   "outputs": [
    {
     "name": "stdout",
     "output_type": "stream",
     "text": [
      "[100, 2, 3, 4, 5, 6, 3, 6, 3]\n"
     ]
    }
   ],
   "source": [
    "x.append(6)\n",
    "x.append(3)\n",
    "print(x)"
   ]
  },
  {
   "cell_type": "code",
   "execution_count": null,
   "metadata": {},
   "outputs": [
    {
     "name": "stdout",
     "output_type": "stream",
     "text": [
      "[100, 2, 3, 4, 5, 6, 3, 6, 3, 11, 12, 13]\n"
     ]
    }
   ],
   "source": [
    "a = [11,12,13]\n",
    "x.extend(a)\n",
    "print(x)"
   ]
  },
  {
   "cell_type": "code",
   "execution_count": null,
   "metadata": {},
   "outputs": [
    {
     "name": "stdout",
     "output_type": "stream",
     "text": [
      "[100, 2, 3, 4, 5, 100, 500, 6, 3, 6, 3, 11, 12, 13]\n"
     ]
    }
   ],
   "source": [
    "x.insert(5,100)\n",
    "x.insert(6,500)\n",
    "print(x)"
   ]
  },
  {
   "cell_type": "code",
   "execution_count": null,
   "metadata": {},
   "outputs": [
    {
     "name": "stdout",
     "output_type": "stream",
     "text": [
      "['1', '1', '1', '1', '1', '1', '1', '1', '1', '1']\n"
     ]
    }
   ],
   "source": [
    "#wap to take 10 values from and fill it in a list\n",
    "empty=[]\n",
    "for i in range(10):\n",
    "    d =input('enter a number')\n",
    "    empty.append(d)\n",
    "print(empty)"
   ]
  },
  {
   "cell_type": "markdown",
   "metadata": {},
   "source": [
    "removing\n"
   ]
  },
  {
   "cell_type": "code",
   "execution_count": null,
   "metadata": {},
   "outputs": [
    {
     "name": "stdout",
     "output_type": "stream",
     "text": [
      "['Paul', 'George', 'Ringo']\n"
     ]
    }
   ],
   "source": [
    "names.remove('John')\n",
    "print(names)"
   ]
  },
  {
   "cell_type": "code",
   "execution_count": null,
   "metadata": {},
   "outputs": [
    {
     "name": "stdout",
     "output_type": "stream",
     "text": [
      "['Paul', 'George', 'Ringo']\n"
     ]
    }
   ],
   "source": [
    "if 'John' in names:  #we should always check whether an alement exists in a list or not b4 removing it\n",
    "    names.remove('John')\n",
    "print(names)"
   ]
  },
  {
   "cell_type": "code",
   "execution_count": null,
   "metadata": {},
   "outputs": [
    {
     "name": "stdout",
     "output_type": "stream",
     "text": [
      "John not found\n"
     ]
    }
   ],
   "source": [
    "names.remove('John') if 'John' in names else print('John not found')"
   ]
  },
  {
   "cell_type": "code",
   "execution_count": null,
   "metadata": {},
   "outputs": [
    {
     "name": "stdout",
     "output_type": "stream",
     "text": [
      "5\n",
      "3\n"
     ]
    }
   ],
   "source": [
    "x = [1,2,3,4,5]\n",
    "print(x.pop())\n",
    "print(x.pop(2))\n"
   ]
  },
  {
   "cell_type": "code",
   "execution_count": null,
   "metadata": {},
   "outputs": [
    {
     "name": "stdout",
     "output_type": "stream",
     "text": [
      "[]\n"
     ]
    }
   ],
   "source": [
    "names.clear() # it emptiesw the list\n",
    "print(names)\n",
    "del names   # it deletes the entire list"
   ]
  },
  {
   "cell_type": "markdown",
   "metadata": {},
   "source": [
    "utility "
   ]
  },
  {
   "cell_type": "code",
   "execution_count": null,
   "metadata": {},
   "outputs": [
    {
     "ename": "",
     "evalue": "",
     "output_type": "error",
     "traceback": [
      "\u001b[1;31mRunning cells with 'c:\\Users\\ASUS\\AppData\\Local\\Programs\\Python\\Python310\\python.exe' requires the ipykernel package.\n",
      "\u001b[1;31mRun the following command to install 'ipykernel' into the Python environment. \n",
      "\u001b[1;31mCommand: 'c:/Users/ASUS/AppData/Local/Programs/Python/Python310/python.exe -m pip install ipykernel -U --user --force-reinstall'"
     ]
    }
   ],
   "source": [
    "a = [1,2,3,1,1,2,2,2,2,1,1,1]\n",
    "a.count(1)"
   ]
  },
  {
   "cell_type": "code",
   "execution_count": 40,
   "metadata": {},
   "outputs": [
    {
     "name": "stdout",
     "output_type": "stream",
     "text": [
      "['George', 'John', 'Paul', 'Ringo']\n"
     ]
    }
   ],
   "source": [
    "names.sort()\n",
    "print(names)"
   ]
  },
  {
   "cell_type": "code",
   "execution_count": 41,
   "metadata": {},
   "outputs": [
    {
     "name": "stdout",
     "output_type": "stream",
     "text": [
      "['Ringo', 'Paul', 'John', 'George']\n"
     ]
    }
   ],
   "source": [
    "names.reverse()\n",
    "print(names)"
   ]
  },
  {
   "cell_type": "code",
   "execution_count": 42,
   "metadata": {},
   "outputs": [
    {
     "data": {
      "text/plain": [
       "2"
      ]
     },
     "execution_count": 42,
     "metadata": {},
     "output_type": "execute_result"
    }
   ],
   "source": [
    "names.index('John')\n"
   ]
  },
  {
   "cell_type": "code",
   "execution_count": 54,
   "metadata": {},
   "outputs": [
    {
     "name": "stdout",
     "output_type": "stream",
     "text": [
      "[0, 1, 1, 2, 3, 5, 8, 13, 21, 34, 55, 89]\n"
     ]
    }
   ],
   "source": [
    "#wap  to create a fibonacci series of 10 numbers and store it in a list\n",
    "#[0,1,1,2,3,5,8,13,21,34]\n",
    "a = [0,1]\n",
    "for i in range(10):\n",
    "     a.append(a[-2]+a[-1])\n",
    "print(a)\n",
    "     \n",
    "     \n",
    "\n",
    "    \n"
   ]
  },
  {
   "cell_type": "code",
   "execution_count": null,
   "metadata": {},
   "outputs": [],
   "source": []
  }
 ],
 "metadata": {
  "kernelspec": {
   "display_name": "base",
   "language": "python",
   "name": "python3"
  },
  "language_info": {
   "codemirror_mode": {
    "name": "ipython",
    "version": 3
   },
   "file_extension": ".py",
   "mimetype": "text/x-python",
   "name": "python",
   "nbconvert_exporter": "python",
   "pygments_lexer": "ipython3",
   "version": "3.10.5"
  },
  "orig_nbformat": 4
 },
 "nbformat": 4,
 "nbformat_minor": 2
}
