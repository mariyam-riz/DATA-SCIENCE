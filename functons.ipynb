{
 "cells": [
  {
   "cell_type": "markdown",
   "metadata": {},
   "source": [
    "- syntax\n",
    "  \n",
    "   ...\n",
    "   def fun_name([parameter]):\n",
    "   statement1\n",
    "   statement2\n",
    "   statement3\n",
    "   ...\n",
    "   statement n \n",
    "   [return value]"
   ]
  },
  {
   "cell_type": "markdown",
   "metadata": {},
   "source": [
    "Types of user defined functions\n",
    "1. Non-parametrized non returning functions   #mainloop in turtle\n",
    "2. Parametrized functions\n",
    "3. Value returning functions\n",
    "    - positional arguments\n",
    "    - named arguments\n",
    "    - default arguments\n",
    "    - variable length arguments\n",
    "    - keyword arguments\n",
    "4. parametrized and value returning functions\n",
    "5. lambda functions"
   ]
  },
  {
   "cell_type": "code",
   "execution_count": 19,
   "metadata": {},
   "outputs": [],
   "source": [
    "#value returning funtions\n",
    "from random import random"
   ]
  },
  {
   "cell_type": "code",
   "execution_count": 20,
   "metadata": {},
   "outputs": [
    {
     "data": {
      "text/plain": [
       "0.5246942424198653"
      ]
     },
     "execution_count": 20,
     "metadata": {},
     "output_type": "execute_result"
    }
   ],
   "source": [
    "random()"
   ]
  },
  {
   "cell_type": "code",
   "execution_count": 21,
   "metadata": {},
   "outputs": [],
   "source": [
    "def inspireMe():\n",
    "    from random import choice\n",
    "    q = [\n",
    "        'The best way to predict the future is to invent it.',\n",
    "        'The most most important step is always the next step.',\n",
    "        'Hardwork beats talent.',\n",
    "        'early to bed'\n",
    "    ]\n",
    "    return choice(q)\n",
    "    "
   ]
  },
  {
   "cell_type": "code",
   "execution_count": 22,
   "metadata": {},
   "outputs": [
    {
     "data": {
      "text/plain": [
       "'The most most important step is always the next step.'"
      ]
     },
     "execution_count": 22,
     "metadata": {},
     "output_type": "execute_result"
    }
   ],
   "source": [
    "inspireMe()"
   ]
  },
  {
   "cell_type": "code",
   "execution_count": 23,
   "metadata": {},
   "outputs": [
    {
     "name": "stdout",
     "output_type": "stream",
     "text": [
      "2\n",
      "4\n",
      "3\n"
     ]
    }
   ],
   "source": [
    "def dicey():\n",
    "    from random import randint\n",
    "    return randint(1,6)\n",
    "print(dicey())\n",
    "print(dicey())\n",
    "print(dicey())"
   ]
  },
  {
   "cell_type": "code",
   "execution_count": 24,
   "metadata": {},
   "outputs": [
    {
     "name": "stdout",
     "output_type": "stream",
     "text": [
      "4\n"
     ]
    }
   ],
   "source": [
    "roll = dicey()\n",
    "print(roll)"
   ]
  },
  {
   "cell_type": "code",
   "execution_count": 25,
   "metadata": {},
   "outputs": [
    {
     "data": {
      "text/plain": [
       "11"
      ]
     },
     "execution_count": 25,
     "metadata": {},
     "output_type": "execute_result"
    }
   ],
   "source": [
    "dicey() + dicey()*5 #if functions return a value then we keep it in a variable."
   ]
  },
  {
   "cell_type": "code",
   "execution_count": 26,
   "metadata": {},
   "outputs": [
    {
     "ename": "ValueError",
     "evalue": "invalid literal for int() with base 10: ''",
     "output_type": "error",
     "traceback": [
      "\u001b[1;31m---------------------------------------------------------------------------\u001b[0m",
      "\u001b[1;31mValueError\u001b[0m                                Traceback (most recent call last)",
      "Cell \u001b[1;32mIn[26], line 10\u001b[0m\n\u001b[0;32m      7\u001b[0m  \u001b[39melse\u001b[39;00m:\n\u001b[0;32m      8\u001b[0m   \u001b[39mprint\u001b[39m(\u001b[39m'\u001b[39m\u001b[39mprime number\u001b[39m\u001b[39m'\u001b[39m)\n\u001b[1;32m---> 10\u001b[0m prime_no()\n",
      "Cell \u001b[1;32mIn[26], line 2\u001b[0m, in \u001b[0;36mprime_no\u001b[1;34m()\u001b[0m\n\u001b[0;32m      1\u001b[0m \u001b[39mdef\u001b[39;00m \u001b[39mprime_no\u001b[39m():\n\u001b[1;32m----> 2\u001b[0m  num \u001b[39m=\u001b[39m \u001b[39mint\u001b[39;49m(\u001b[39minput\u001b[39;49m(\u001b[39m'\u001b[39;49m\u001b[39menter a number\u001b[39;49m\u001b[39m'\u001b[39;49m))\n\u001b[0;32m      3\u001b[0m  \u001b[39mfor\u001b[39;00m i \u001b[39min\u001b[39;00m \u001b[39mrange\u001b[39m(\u001b[39m2\u001b[39m,num):\n\u001b[0;32m      4\u001b[0m   \u001b[39mif\u001b[39;00m num\u001b[39m%\u001b[39mi\u001b[39m==\u001b[39m\u001b[39m0\u001b[39m:\n",
      "\u001b[1;31mValueError\u001b[0m: invalid literal for int() with base 10: ''"
     ]
    }
   ],
   "source": [
    "\n",
    "def prime_no():\n",
    " num = int(input('enter a number'))\n",
    " for i in range(2,num):\n",
    "  if num%i==0:\n",
    "   print('not a prime number')\n",
    "   break\n",
    " else:\n",
    "  print('prime number')\n",
    "\n",
    "prime_no()\n",
    "\n"
   ]
  },
  {
   "cell_type": "code",
   "execution_count": null,
   "metadata": {},
   "outputs": [
    {
     "name": "stdout",
     "output_type": "stream",
     "text": [
      "not a prime number\n"
     ]
    }
   ],
   "source": [
    "\n",
    "def prime_no(num):\n",
    "\n",
    " for i in range(2,num):\n",
    "  if num%i==0:\n",
    "   print('not a prime number')\n",
    "   break\n",
    " else:\n",
    "  print('prime number')\n",
    "\n",
    "prime_no(45)"
   ]
  },
  {
   "cell_type": "code",
   "execution_count": null,
   "metadata": {},
   "outputs": [
    {
     "name": "stdout",
     "output_type": "stream",
     "text": [
      "principle: 10\n",
      "rate: 3\n",
      "time: 4\n",
      "simple interest: 1.2\n"
     ]
    }
   ],
   "source": [
    "def si(p,r,t):\n",
    "    ans = p*r*t/100\n",
    "    print('principle:',p)\n",
    "    print('rate:',r)\n",
    "    print('time:',t)\n",
    "    print('simple interest:',ans)\n",
    "\n",
    "si(10,3,4)"
   ]
  },
  {
   "cell_type": "markdown",
   "metadata": {},
   "source": [
    "- waf to remove all punctuations from the string provided by user"
   ]
  },
  {
   "cell_type": "code",
   "execution_count": null,
   "metadata": {},
   "outputs": [
    {
     "data": {
      "text/plain": [
       "'heyhowareyou'"
      ]
     },
     "execution_count": 29,
     "metadata": {},
     "output_type": "execute_result"
    }
   ],
   "source": [
    "from string import punctuation\n",
    "def rem(data):\n",
    " for i in punctuation:\n",
    "  data = data.replace(i,'')\n",
    " return data\n",
    "\n",
    "data = 'h#ey%how^areyou&'\n",
    "rem(data) \n"
   ]
  },
  {
   "cell_type": "code",
   "execution_count": null,
   "metadata": {},
   "outputs": [],
   "source": [
    "#functions are described like this in the libraries\n",
    "def summmer(x:int,y:int,z:int)-> int:  #this specifies the dataypes of parameters and the returntype                              \n",
    "    '''A function that returns that sum of x,y, and z'''\n",
    "    return x+y+z"
   ]
  },
  {
   "cell_type": "code",
   "execution_count": null,
   "metadata": {},
   "outputs": [],
   "source": [
    "def  summer(x,y,z):\n",
    "    return(x+y+z)"
   ]
  },
  {
   "cell_type": "code",
   "execution_count": null,
   "metadata": {},
   "outputs": [
    {
     "ename": "TypeError",
     "evalue": "summer() missing 3 required positional arguments: 'x', 'y', and 'z'",
     "output_type": "error",
     "traceback": [
      "\u001b[1;31m---------------------------------------------------------------------------\u001b[0m",
      "\u001b[1;31mTypeError\u001b[0m                                 Traceback (most recent call last)",
      "Cell \u001b[1;32mIn[4], line 1\u001b[0m\n\u001b[1;32m----> 1\u001b[0m \u001b[39mprint\u001b[39m(summer())\n",
      "\u001b[1;31mTypeError\u001b[0m: summer() missing 3 required positional arguments: 'x', 'y', and 'z'"
     ]
    }
   ],
   "source": [
    "print(summer())"
   ]
  },
  {
   "cell_type": "code",
   "execution_count": null,
   "metadata": {},
   "outputs": [
    {
     "name": "stdout",
     "output_type": "stream",
     "text": [
      "60\n",
      "60\n"
     ]
    }
   ],
   "source": [
    "print(summer(10,20,30))                #positional arguments \n",
    "print(summer(x=10,y=20,z=30))          #named arguments"
   ]
  },
  {
   "cell_type": "code",
   "execution_count": null,
   "metadata": {},
   "outputs": [
    {
     "name": "stdout",
     "output_type": "stream",
     "text": [
      "60\n"
     ]
    }
   ],
   "source": [
    "a = int(input('enter a number'))\n",
    "b= int(input('enter a number'))\n",
    "c = int(input('enter a number'))\n",
    "ans  = summer(x=a, y= b,z=c)\n",
    "print(ans)"
   ]
  },
  {
   "cell_type": "code",
   "execution_count": null,
   "metadata": {},
   "outputs": [
    {
     "data": {
      "text/plain": [
       "60"
      ]
     },
     "execution_count": 8,
     "metadata": {},
     "output_type": "execute_result"
    }
   ],
   "source": [
    "summer(y=10,z=30,x=20)"
   ]
  },
  {
   "cell_type": "code",
   "execution_count": null,
   "metadata": {},
   "outputs": [
    {
     "name": "stdout",
     "output_type": "stream",
     "text": [
      "24\n",
      "6\n"
     ]
    }
   ],
   "source": [
    "def multiplier(a,b,c,d=1):       #default arguments in case you dont specify a value for a particular argument\n",
    "    return a*b*c*d\n",
    "print(multiplier(1,2,3,4))\n",
    "print(multiplier(1,2,3,))"
   ]
  },
  {
   "cell_type": "code",
   "execution_count": null,
   "metadata": {},
   "outputs": [
    {
     "name": "stdout",
     "output_type": "stream",
     "text": [
      "10\n",
      "20\n",
      "30\n",
      "60000\n"
     ]
    }
   ],
   "source": [
    "def multiplier(a,b=1,c=1,d=1):       #default arguments in case you don't specify a value for a particular argument\n",
    "    return a*b*c*d\n",
    "print(multiplier(10))\n",
    "print(multiplier(10,b=2))\n",
    "print(multiplier(10,3))\n",
    "print(multiplier(10,d=10,c=20,b=30))"
   ]
  },
  {
   "cell_type": "code",
   "execution_count": null,
   "metadata": {},
   "outputs": [
    {
     "name": "stdout",
     "output_type": "stream",
     "text": [
      "1\n",
      "10\n",
      "120\n",
      "46080\n"
     ]
    }
   ],
   "source": [
    "def multiplier(*nums):        #* means nums parameter is a variable argument\n",
    "    result = 1                #adding * to a parameter makes it a tuble object  -> variable length argument\n",
    "    for num in nums:          #there can be only 1 variable length parameter in a function\n",
    "        result *= num\n",
    "    return result\n",
    "\n",
    "print(multiplier())\n",
    "print(multiplier(10))\n",
    "print(multiplier(1,2,3,4,5))\n",
    "print(multiplier(1,2,4,2,3,2,2,2,2,2,2,3,5))\n",
    "\n",
    "\n"
   ]
  },
  {
   "cell_type": "code",
   "execution_count": null,
   "metadata": {},
   "outputs": [
    {
     "name": "stdout",
     "output_type": "stream",
     "text": [
      "a this\n",
      "b that\n",
      "c the other\n",
      "d something\n"
     ]
    }
   ],
   "source": [
    "#variable length keyword arguments\n",
    "def msg(**kwargs):\n",
    "    for k,v in kwargs.items():\n",
    "        print(k,v)\n",
    "msg(a='this',b='that',c='the other',d='something')\n"
   ]
  },
  {
   "cell_type": "code",
   "execution_count": null,
   "metadata": {},
   "outputs": [
    {
     "data": {
      "text/plain": [
       "'records saved successfully'"
      ]
     },
     "execution_count": 18,
     "metadata": {},
     "output_type": "execute_result"
    }
   ],
   "source": [
    "def student_records(**students):\n",
    "    with open('records.txt','a') as file:\n",
    "        file.write('Student details\\n')\n",
    "        for k,v in students.items():\n",
    "            file.write(f'{k}:{v}\\n')\n",
    "        file.write('\\n')\n",
    "    return 'records saved successfully'\n",
    "\n",
    "student_records(\n",
    "    alex = 87,\n",
    "    alen = 35,\n",
    "    christa = 90,\n",
    "    brijesh = 67\n",
    ")"
   ]
  },
  {
   "cell_type": "markdown",
   "metadata": {},
   "source": [
    "- lambada functions   (it can also be used with strings)\n",
    "f(x)= x**2 + x*10 +x\n",
    "g(x,y)= x**y + y**2 + x*y\n",
    "f(2)\n",
    "f(3)"
   ]
  },
  {
   "cell_type": "code",
   "execution_count": 29,
   "metadata": {},
   "outputs": [
    {
     "name": "stdout",
     "output_type": "stream",
     "text": [
      "42\n",
      "60\n",
      "39\n",
      "13\n"
     ]
    }
   ],
   "source": [
    "f = lambda x: x**2 + x*10 + x\n",
    "g = lambda x,y: x**y + y**2 + x*y\n",
    "print(f(3))\n",
    "print(f(4))\n",
    "print(g(5,2))\n",
    "print(g(6,1))"
   ]
  },
  {
   "cell_type": "markdown",
   "metadata": {},
   "source": [
    "map,reduce"
   ]
  },
  {
   "cell_type": "code",
   "execution_count": 31,
   "metadata": {},
   "outputs": [
    {
     "name": "stdout",
     "output_type": "stream",
     "text": [
      "[12, 26, 42, 126, 1230, 3752, 8900]\n"
     ]
    }
   ],
   "source": [
    "data = [1,2,3,7,30,56,89]\n",
    "data2 = list(map(f,data))  #it performs the f function on all the data\n",
    "print(data2)"
   ]
  },
  {
   "cell_type": "code",
   "execution_count": null,
   "metadata": {},
   "outputs": [],
   "source": []
  }
 ],
 "metadata": {
  "kernelspec": {
   "display_name": "base",
   "language": "python",
   "name": "python3"
  },
  "language_info": {
   "codemirror_mode": {
    "name": "ipython",
    "version": 3
   },
   "file_extension": ".py",
   "mimetype": "text/x-python",
   "name": "python",
   "nbconvert_exporter": "python",
   "pygments_lexer": "ipython3",
   "version": "3.11.4"
  },
  "orig_nbformat": 4
 },
 "nbformat": 4,
 "nbformat_minor": 2
}
