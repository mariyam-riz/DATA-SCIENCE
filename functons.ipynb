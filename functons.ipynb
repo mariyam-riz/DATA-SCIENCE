{
 "cells": [
  {
   "cell_type": "markdown",
   "metadata": {},
   "source": [
    "- syntax\n",
    "  \n",
    "   ...\n",
    "   def fun_name([parameter]):\n",
    "   statement1\n",
    "   statement2\n",
    "   statement3\n",
    "   ...\n",
    "   statement n \n",
    "   [return value]"
   ]
  },
  {
   "cell_type": "markdown",
   "metadata": {},
   "source": [
    "Types of user defined functions\n",
    "1. Non-parametrized non returning functions\n",
    "2. Parametrized functions\n",
    "3. Value returning functions\n",
    "    - positional requirements\n",
    "    - named arguments\n",
    "    - default arguments\n",
    "    - variable length arguments\n",
    "    - keyword arguments\n",
    "4. parametrized and value returning functions\n",
    "5. lambda functions"
   ]
  },
  {
   "cell_type": "code",
   "execution_count": 1,
   "metadata": {},
   "outputs": [],
   "source": [
    "#value returning funtions\n",
    "from random import random"
   ]
  },
  {
   "cell_type": "code",
   "execution_count": 2,
   "metadata": {},
   "outputs": [
    {
     "data": {
      "text/plain": [
       "0.6169002516492468"
      ]
     },
     "execution_count": 2,
     "metadata": {},
     "output_type": "execute_result"
    }
   ],
   "source": [
    "random()"
   ]
  },
  {
   "cell_type": "code",
   "execution_count": 6,
   "metadata": {},
   "outputs": [],
   "source": [
    "def inspireMe():\n",
    "    from random import choice\n",
    "    q = [\n",
    "        'The best way to predict the future is to invent it.',\n",
    "        'The most most important step is always the next step.',\n",
    "        'Hardwork beats talent.',\n",
    "        'early to bed'\n",
    "    ]\n",
    "    return choice(q)\n",
    "    "
   ]
  },
  {
   "cell_type": "code",
   "execution_count": 9,
   "metadata": {},
   "outputs": [
    {
     "data": {
      "text/plain": [
       "'The best way to predict the future is to invent it.'"
      ]
     },
     "execution_count": 9,
     "metadata": {},
     "output_type": "execute_result"
    }
   ],
   "source": [
    "inspireMe()"
   ]
  },
  {
   "cell_type": "code",
   "execution_count": 11,
   "metadata": {},
   "outputs": [
    {
     "name": "stdout",
     "output_type": "stream",
     "text": [
      "6\n",
      "2\n",
      "1\n"
     ]
    }
   ],
   "source": [
    "def dicey():\n",
    "    from random import randint\n",
    "    return randint(1,6)\n",
    "print(dicey())\n",
    "print(dicey())\n",
    "print(dicey())"
   ]
  },
  {
   "cell_type": "code",
   "execution_count": 12,
   "metadata": {},
   "outputs": [
    {
     "name": "stdout",
     "output_type": "stream",
     "text": [
      "5\n"
     ]
    }
   ],
   "source": [
    "roll = dicey()\n",
    "print(roll)"
   ]
  },
  {
   "cell_type": "code",
   "execution_count": 13,
   "metadata": {},
   "outputs": [
    {
     "data": {
      "text/plain": [
       "20"
      ]
     },
     "execution_count": 13,
     "metadata": {},
     "output_type": "execute_result"
    }
   ],
   "source": [
    "dicey() + dicey()*5 #if functions return a value then we keep it in a variable."
   ]
  },
  {
   "cell_type": "code",
   "execution_count": 19,
   "metadata": {},
   "outputs": [
    {
     "name": "stdout",
     "output_type": "stream",
     "text": [
      "not a prime number\n"
     ]
    }
   ],
   "source": [
    "\n",
    "def prime_no():\n",
    " num = int(input('enter a number'))\n",
    " for i in range(2,num):\n",
    "  if num%i==0:\n",
    "   print('not a prime number')\n",
    "   break\n",
    " else:\n",
    "  print('prime number')\n",
    "\n",
    "prime_no()\n",
    "\n"
   ]
  },
  {
   "cell_type": "code",
   "execution_count": 24,
   "metadata": {},
   "outputs": [
    {
     "name": "stdout",
     "output_type": "stream",
     "text": [
      "not a prime number\n"
     ]
    }
   ],
   "source": [
    "\n",
    "def prime_no(num):\n",
    "\n",
    " for i in range(2,num):\n",
    "  if num%i==0:\n",
    "   print('not a prime number')\n",
    "   break\n",
    " else:\n",
    "  print('prime number')\n",
    "\n",
    "prime_no(45)"
   ]
  },
  {
   "cell_type": "code",
   "execution_count": 26,
   "metadata": {},
   "outputs": [
    {
     "name": "stdout",
     "output_type": "stream",
     "text": [
      "principle: 10\n",
      "rate: 3\n",
      "time: 4\n",
      "simple interest: 1.2\n"
     ]
    }
   ],
   "source": [
    "def si(p,r,t):\n",
    "    ans = p*r*t/100\n",
    "    print('principle:',p)\n",
    "    print('rate:',r)\n",
    "    print('time:',t)\n",
    "    print('simple interest:',ans)\n",
    "\n",
    "si(10,3,4)"
   ]
  },
  {
   "cell_type": "markdown",
   "metadata": {},
   "source": [
    "- waf to remove all punctuations from the string provided by user"
   ]
  },
  {
   "cell_type": "code",
   "execution_count": 29,
   "metadata": {},
   "outputs": [
    {
     "data": {
      "text/plain": [
       "'heyhowareyou'"
      ]
     },
     "execution_count": 29,
     "metadata": {},
     "output_type": "execute_result"
    }
   ],
   "source": [
    "from string import punctuation\n",
    "def rem(data):\n",
    " for i in punctuation:\n",
    "  data = data.replace(i,'')\n",
    " return data\n",
    "\n",
    "data = 'h#ey%how^areyou&'\n",
    "rem(data) \n"
   ]
  },
  {
   "cell_type": "code",
   "execution_count": null,
   "metadata": {},
   "outputs": [],
   "source": []
  }
 ],
 "metadata": {
  "kernelspec": {
   "display_name": "base",
   "language": "python",
   "name": "python3"
  },
  "language_info": {
   "codemirror_mode": {
    "name": "ipython",
    "version": 3
   },
   "file_extension": ".py",
   "mimetype": "text/x-python",
   "name": "python",
   "nbconvert_exporter": "python",
   "pygments_lexer": "ipython3",
   "version": "3.11.4"
  },
  "orig_nbformat": 4
 },
 "nbformat": 4,
 "nbformat_minor": 2
}
