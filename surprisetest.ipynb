{
 "cells": [
  {
   "cell_type": "code",
   "execution_count": 1,
   "metadata": {},
   "outputs": [
    {
     "name": "stdout",
     "output_type": "stream",
     "text": [
      "[1, 2, 3, 4, 5, 6]\n"
     ]
    }
   ],
   "source": [
    "\n",
    "\n",
    "#Given a list numbers = [1, 2, 3, 4, 5], write Python code to append the number 6 to the end of the list.\n",
    "x = [1,2,3,4,5]\n",
    "x.append(6)\n",
    "print(x)"
   ]
  },
  {
   "cell_type": "code",
   "execution_count": 2,
   "metadata": {},
   "outputs": [
    {
     "name": "stdout",
     "output_type": "stream",
     "text": [
      "['apple', 'banana', 'grape']\n"
     ]
    }
   ],
   "source": [
    "#Suppose you have a list fruits = ['apple', 'banana', 'orange', 'grape']. Write Python code to remove the element 'orange' from the list.\n",
    "fruits = ['apple', 'banana', 'orange', 'grape']\n",
    "fruits.remove('orange')\n",
    "print(fruits)"
   ]
  },
  {
   "cell_type": "code",
   "execution_count": 16,
   "metadata": {},
   "outputs": [
    {
     "name": "stdout",
     "output_type": "stream",
     "text": [
      "[2, 4]\n"
     ]
    }
   ],
   "source": [
    "#Write a Python code that takes a list of integers as input and returns a new list with only the even numbers from the original list.\n",
    "list1=[]\n",
    "num = int(input('enter number of elements in the list')) \n",
    "for i in range(num):\n",
    "    d =int(input('enter a number'))\n",
    "    list1.append(d)\n",
    "list2 = [i for i in list1 if i%2==0]\n",
    "print(list2)"
   ]
  },
  {
   "cell_type": "code",
   "execution_count": 10,
   "metadata": {},
   "outputs": [
    {
     "name": "stdout",
     "output_type": "stream",
     "text": [
      "[1, 2, 3, 4, 5, 6]\n"
     ]
    }
   ],
   "source": [
    "#Given two lists list1 = [1, 2, 3] and list2 = [4, 5, 6], write Python code to combine these two lists and create a new list.\n",
    "list1 = [1, 2, 3] \n",
    "list2 = [4, 5, 6]\n",
    "list1.extend(list2)\n",
    "print(list1)"
   ]
  },
  {
   "cell_type": "code",
   "execution_count": 13,
   "metadata": {},
   "outputs": [
    {
     "name": "stdout",
     "output_type": "stream",
     "text": [
      "['hellowie', 'mariyam']\n"
     ]
    }
   ],
   "source": [
    "#Write a Python code that takes a list of strings as input and returns a new list containing only the strings with a length greater than 5.\n",
    "empty=[]\n",
    "empty2=[]\n",
    "n = int(input('enter number of elements in the list')) \n",
    "for i in range(n):\n",
    "    d =input('enter a string')\n",
    "    empty.append(d)\n",
    "for str in empty:\n",
    "    if len(str)>5:\n",
    "        empty2.append(str)\n",
    "\n",
    "print(empty2)\n"
   ]
  },
  {
   "cell_type": "code",
   "execution_count": 14,
   "metadata": {},
   "outputs": [
    {
     "name": "stdout",
     "output_type": "stream",
     "text": [
      "{'name': 'John', 'age': 25, 'major': 'Computer Science'}\n"
     ]
    }
   ],
   "source": [
    "#Create a Python dictionary student with the following key-value pairs: 'name' set to 'John', 'age' set to 25, and 'major' set to 'Computer Science'.\n",
    "Student = {'name': 'John',\n",
    "           'age': 25,\n",
    "           'major': 'Computer Science'}\n",
    "print(Student)\n",
    "\n"
   ]
  },
  {
   "cell_type": "code",
   "execution_count": 21,
   "metadata": {},
   "outputs": [
    {
     "name": "stdout",
     "output_type": "stream",
     "text": [
      "doesnt exist\n"
     ]
    }
   ],
   "source": [
    "#Given the following dictionary inventory = {'apples': 10, 'bananas': 5, 'oranges': 8}, write Python code to check if the key 'grapes' is present in the dictionary.\n",
    "inventory = {'apples': 10, 'bananas': 5, 'oranges': 8}\n",
    "inventory.get('grapes')\n",
    "if 'grapes' in inventory:\n",
    " print('grapes exist')\n",
    "else:\n",
    " print('doesnt exist')\n"
   ]
  },
  {
   "cell_type": "code",
   "execution_count": 24,
   "metadata": {},
   "outputs": [
    {
     "name": "stdout",
     "output_type": "stream",
     "text": [
      "{'milk': 5, 'egg': 6}\n"
     ]
    }
   ],
   "source": [
    "#Write a Python code that takes a dictionary of items and their prices as input and returns the item with the highest price.\n",
    "inputs = int(input('enter number of items'))\n",
    "dict = {}\n",
    "for i in range (inputs):\n",
    "    items = input ('enter an item:')\n",
    "    price = int(input('enter the price:'))\n",
    "    dict[items]= price\n",
    "print(dict)"
   ]
  },
  {
   "cell_type": "code",
   "execution_count": 27,
   "metadata": {},
   "outputs": [
    {
     "name": "stdout",
     "output_type": "stream",
     "text": [
      "{'Jack': 2000, 'Jill': 5000}\n"
     ]
    }
   ],
   "source": [
    "#Suppose you have a dictionary contacts containing contact information. Write Python code to remove the contact with the key 'John' from the dictionary.\n",
    "contact = {\n",
    "    'John':9000,\n",
    "    'Jack': 2000,\n",
    "    'Jill': 5000\n",
    "}\n",
    "del contact['John']\n",
    "print(contact)"
   ]
  },
  {
   "cell_type": "code",
   "execution_count": 28,
   "metadata": {},
   "outputs": [
    {
     "name": "stdout",
     "output_type": "stream",
     "text": [
      "MARIYAM RIZWAN\n"
     ]
    }
   ],
   "source": [
    "#How can you convert a string sentence to all uppercase letters in Python?\n",
    "name = 'Mariyam Rizwan'\n",
    "print(name.upper())\n"
   ]
  },
  {
   "cell_type": "code",
   "execution_count": 30,
   "metadata": {},
   "outputs": [
    {
     "name": "stdout",
     "output_type": "stream",
     "text": [
      "mariyamm\n",
      "mxrxyxmm\n"
     ]
    }
   ],
   "source": [
    "#Write a Python code that takes a string as input and returns a new string with all vowels replaced by the letter 'x'.\n",
    "str = input('enter a string')\n",
    "copy = str\n",
    "for c in 'aeiou':\n",
    "     copy=copy.replace(c,'x')\n",
    "print(str)\n",
    "print(copy)"
   ]
  },
  {
   "cell_type": "code",
   "execution_count": 32,
   "metadata": {},
   "outputs": [
    {
     "name": "stdout",
     "output_type": "stream",
     "text": [
      "4\n"
     ]
    }
   ],
   "source": [
    "#Suppose you have a string sentence = \"Python programming is fun!\". Write Python code to count the number of words in the sentence.\n",
    "sentence = \"Python programming is fun!\"\n",
    "words = sentence.split()\n",
    "word_len = len(words)\n",
    "print(word_len)"
   ]
  },
  {
   "cell_type": "code",
   "execution_count": 33,
   "metadata": {},
   "outputs": [
    {
     "name": "stdout",
     "output_type": "stream",
     "text": [
      "19\n"
     ]
    }
   ],
   "source": [
    "#Suppose you have a list numbers = [3, 5, 1, 8, 2]. Write Python code to find the sum of all the numbers in the list.\n",
    "numbers = [3, 5, 1, 8, 2]\n",
    "sum = 0\n",
    "for i in numbers:\n",
    "    sum = sum +i\n",
    "print(sum)"
   ]
  },
  {
   "cell_type": "code",
   "execution_count": 36,
   "metadata": {},
   "outputs": [
    {
     "name": "stdout",
     "output_type": "stream",
     "text": [
      "hello world\n"
     ]
    }
   ],
   "source": [
    "#Suppose you have a list words = ['hello', 'world']. Write Python code to join the elements of the list into a single string separated by a space.\n",
    "words = ['hello', 'world']\n",
    "newword = \" \".join(words)\n",
    "print(newword)"
   ]
  },
  {
   "cell_type": "code",
   "execution_count": 46,
   "metadata": {},
   "outputs": [
    {
     "data": {
      "text/plain": [
       "{'home': '123-456-7890', 'work': '987-654-3210'}"
      ]
     },
     "execution_count": 46,
     "metadata": {},
     "output_type": "execute_result"
    }
   ],
   "source": [
    "#Suppose you have a nested dictionary representing a person's contact information:\n",
    "\n",
    "contact_info = {\n",
    "    'name': 'John Doe',\n",
    "    'phone': {\n",
    "        'home': '123-456-7890',\n",
    "        'work': '987-654-3210'\n",
    "    },\n",
    "    'email': 'john.doe@example.com'\n",
    "}\n",
    "#Write Python code to extract John's home phone number from the dictionary.\n",
    "contact_info.get('phone')"
   ]
  },
  {
   "cell_type": "code",
   "execution_count": 41,
   "metadata": {},
   "outputs": [
    {
     "name": "stdout",
     "output_type": "stream",
     "text": [
      "olleh\n"
     ]
    }
   ],
   "source": [
    "#rite a Python code that takes a string as input and returns the string reversed.\n",
    "\n",
    "str = input('enter a string')\n",
    "str1 = str[::-1] #reverse\n",
    "print(str1)\n",
    "\n"
   ]
  },
  {
   "cell_type": "code",
   "execution_count": 42,
   "metadata": {},
   "outputs": [
    {
     "name": "stdout",
     "output_type": "stream",
     "text": [
      "4\n"
     ]
    }
   ],
   "source": [
    "#Write a Python code that takes a string as input and returns the number of words in the string.\n",
    "str = input('enter a string')\n",
    "words = str.split()\n",
    "word_len = len(words)\n",
    "print(word_len)"
   ]
  },
  {
   "cell_type": "code",
   "execution_count": 43,
   "metadata": {},
   "outputs": [
    {
     "name": "stdout",
     "output_type": "stream",
     "text": [
      "hyy!hello#\n",
      "hyyhello\n"
     ]
    }
   ],
   "source": [
    "#Write a Python code that takes a string as input and returns a new string with all the punctuation marks removed.\n",
    "str = input('enter a string')\n",
    "copy = str\n",
    "for c in '!@#$%^&*()':\n",
    "     copy=copy.replace(c,'')\n",
    "print(str)\n",
    "print(copy)\n",
    "\n"
   ]
  },
  {
   "cell_type": "code",
   "execution_count": 44,
   "metadata": {},
   "outputs": [
    {
     "name": "stdout",
     "output_type": "stream",
     "text": [
      "example.com\n"
     ]
    }
   ],
   "source": [
    "#Given a string email = \"john.doe@example.com\", write Python code to extract the domain name 'example.com' from the email\n",
    "email = \"john.doe@example.com\"\n",
    "x = email.split('@')\n",
    "domain_name = x[1]\n",
    "print(domain_name)"
   ]
  },
  {
   "cell_type": "code",
   "execution_count": null,
   "metadata": {},
   "outputs": [],
   "source": []
  }
 ],
 "metadata": {
  "kernelspec": {
   "display_name": "base",
   "language": "python",
   "name": "python3"
  },
  "language_info": {
   "codemirror_mode": {
    "name": "ipython",
    "version": 3
   },
   "file_extension": ".py",
   "mimetype": "text/x-python",
   "name": "python",
   "nbconvert_exporter": "python",
   "pygments_lexer": "ipython3",
   "version": "3.11.4"
  },
  "orig_nbformat": 4
 },
 "nbformat": 4,
 "nbformat_minor": 2
}
