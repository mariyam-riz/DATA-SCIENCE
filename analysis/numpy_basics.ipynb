{
 "cells": [
  {
   "cell_type": "code",
   "execution_count": 1,
   "metadata": {},
   "outputs": [],
   "source": [
    "import numpy as np"
   ]
  },
  {
   "cell_type": "code",
   "execution_count": 2,
   "metadata": {},
   "outputs": [
    {
     "name": "stdout",
     "output_type": "stream",
     "text": [
      "[1 2 3 4]\n",
      "<class 'numpy.ndarray'>\n"
     ]
    }
   ],
   "source": [
    "n1 = np.array([1,2,3,4])\n",
    "print(n1)\n",
    "print(type(n1))"
   ]
  },
  {
   "cell_type": "code",
   "execution_count": 3,
   "metadata": {},
   "outputs": [
    {
     "data": {
      "text/plain": [
       "array([1, 2, 3, 4])"
      ]
     },
     "execution_count": 3,
     "metadata": {},
     "output_type": "execute_result"
    }
   ],
   "source": [
    "n1"
   ]
  },
  {
   "cell_type": "code",
   "execution_count": 4,
   "metadata": {},
   "outputs": [
    {
     "data": {
      "text/plain": [
       "48"
      ]
     },
     "execution_count": 4,
     "metadata": {},
     "output_type": "execute_result"
    }
   ],
   "source": [
    "x = []\n",
    "len(dir(x))"
   ]
  },
  {
   "cell_type": "code",
   "execution_count": 5,
   "metadata": {},
   "outputs": [
    {
     "data": {
      "text/plain": [
       "166"
      ]
     },
     "execution_count": 5,
     "metadata": {},
     "output_type": "execute_result"
    }
   ],
   "source": [
    "len(dir(n1))"
   ]
  },
  {
   "cell_type": "code",
   "execution_count": 6,
   "metadata": {},
   "outputs": [
    {
     "data": {
      "text/plain": [
       "(4,)"
      ]
     },
     "execution_count": 6,
     "metadata": {},
     "output_type": "execute_result"
    }
   ],
   "source": [
    "n1.shape             #tells number of values "
   ]
  },
  {
   "cell_type": "code",
   "execution_count": 7,
   "metadata": {},
   "outputs": [
    {
     "name": "stdout",
     "output_type": "stream",
     "text": [
      "[[1 2 3]\n",
      " [2 3 5]]\n",
      "(2, 3)\n"
     ]
    }
   ],
   "source": [
    "n2 = np.array([[1,2,3],[2,3,5]])\n",
    "print(n2)\n",
    "print(n2.shape)"
   ]
  },
  {
   "cell_type": "markdown",
   "metadata": {},
   "source": [
    "creating matrix\n",
    "- arange\n",
    "- linspace\n",
    "- random.rand\n",
    "- randon.randn\n",
    "- random.randint\n",
    "- eye\n",
    "- one \n",
    "- zeroes"
   ]
  },
  {
   "cell_type": "code",
   "execution_count": 8,
   "metadata": {},
   "outputs": [
    {
     "data": {
      "text/plain": [
       "(100,)"
      ]
     },
     "execution_count": 8,
     "metadata": {},
     "output_type": "execute_result"
    }
   ],
   "source": [
    "#arange\n",
    "x = np.arange(-10,10,.2)\n",
    "x.shape"
   ]
  },
  {
   "cell_type": "code",
   "execution_count": 9,
   "metadata": {},
   "outputs": [
    {
     "name": "stdout",
     "output_type": "stream",
     "text": [
      "[1.         1.44444444 1.88888889 2.33333333 2.77777778 3.22222222\n",
      " 3.66666667 4.11111111 4.55555556 5.        ]\n",
      "(10,)\n"
     ]
    }
   ],
   "source": [
    "#linspace(linear spacing)\n",
    "y = np.linspace(1,5,10) #10 is nuumber of elements you want to generate\n",
    "print(y)\n",
    "print(y.shape)\n"
   ]
  },
  {
   "cell_type": "code",
   "execution_count": 10,
   "metadata": {},
   "outputs": [
    {
     "data": {
      "text/plain": [
       "array([[0.1782959 , 0.74314354, 0.2160689 ],\n",
       "       [0.78590061, 0.63453149, 0.49365577],\n",
       "       [0.03124995, 0.59568047, 0.46890971]])"
      ]
     },
     "execution_count": 10,
     "metadata": {},
     "output_type": "execute_result"
    }
   ],
   "source": [
    "#random.rand\n",
    "np.random.rand(3,3)"
   ]
  },
  {
   "cell_type": "code",
   "execution_count": 11,
   "metadata": {},
   "outputs": [
    {
     "data": {
      "text/plain": [
       "array([ 0.83273256, -2.85370744, -0.95864844, -0.11732432, -0.95693312,\n",
       "        0.46961684,  0.06501283,  1.581265  ,  0.5978135 , -0.13351647])"
      ]
     },
     "execution_count": 11,
     "metadata": {},
     "output_type": "execute_result"
    }
   ],
   "source": [
    "np.random.randn(10)     #gives random numbers surronding 0 or some other number"
   ]
  },
  {
   "cell_type": "code",
   "execution_count": 12,
   "metadata": {},
   "outputs": [
    {
     "data": {
      "text/plain": [
       "array([[3, 4, 2, 2, 3],\n",
       "       [1, 1, 1, 4, 2],\n",
       "       [3, 4, 2, 1, 2],\n",
       "       [3, 3, 4, 3, 4],\n",
       "       [4, 2, 1, 1, 1]])"
      ]
     },
     "execution_count": 12,
     "metadata": {},
     "output_type": "execute_result"
    }
   ],
   "source": [
    "np.random.randint(1,5,(5,5))  #creates a 5,5 matrix b/w numbers 1 to 5  where 5 is exclusive"
   ]
  },
  {
   "cell_type": "code",
   "execution_count": 13,
   "metadata": {},
   "outputs": [
    {
     "name": "stdout",
     "output_type": "stream",
     "text": [
      "[[4 9]\n",
      " [3 4]\n",
      " [7 5]]\n",
      "[[9 2]\n",
      " [6 2]\n",
      " [5 1]]\n"
     ]
    }
   ],
   "source": [
    "x = np.random.randint(1,10,(3,2))\n",
    "y = np.random.randint(1,10,(3,2))\n",
    "print(x)\n",
    "print(y)"
   ]
  },
  {
   "cell_type": "code",
   "execution_count": 14,
   "metadata": {},
   "outputs": [
    {
     "data": {
      "text/plain": [
       "array([[ 9, 14],\n",
       "       [ 8,  9],\n",
       "       [12, 10]])"
      ]
     },
     "execution_count": 14,
     "metadata": {},
     "output_type": "execute_result"
    }
   ],
   "source": [
    "x + 5  #adds number to all the numbers of the matrix without the use of loop"
   ]
  },
  {
   "cell_type": "code",
   "execution_count": 15,
   "metadata": {},
   "outputs": [
    {
     "data": {
      "text/plain": [
       "array([[13, 11],\n",
       "       [ 9,  6],\n",
       "       [12,  6]])"
      ]
     },
     "execution_count": 15,
     "metadata": {},
     "output_type": "execute_result"
    }
   ],
   "source": [
    "x+y"
   ]
  },
  {
   "cell_type": "code",
   "execution_count": 16,
   "metadata": {},
   "outputs": [
    {
     "data": {
      "text/plain": [
       "array([[36, 18],\n",
       "       [18,  8],\n",
       "       [35,  5]])"
      ]
     },
     "execution_count": 16,
     "metadata": {},
     "output_type": "execute_result"
    }
   ],
   "source": [
    "x * y"
   ]
  },
  {
   "cell_type": "code",
   "execution_count": 17,
   "metadata": {},
   "outputs": [
    {
     "data": {
      "text/plain": [
       "array([[9, 6, 5],\n",
       "       [2, 2, 1]])"
      ]
     },
     "execution_count": 17,
     "metadata": {},
     "output_type": "execute_result"
    }
   ],
   "source": [
    "y.T #transpose"
   ]
  },
  {
   "cell_type": "code",
   "execution_count": 18,
   "metadata": {},
   "outputs": [
    {
     "data": {
      "text/plain": [
       "array([[54, 42, 29],\n",
       "       [35, 26, 19],\n",
       "       [73, 52, 40]])"
      ]
     },
     "execution_count": 18,
     "metadata": {},
     "output_type": "execute_result"
    }
   ],
   "source": [
    "x.dot(y.T)"
   ]
  },
  {
   "cell_type": "code",
   "execution_count": 19,
   "metadata": {},
   "outputs": [
    {
     "data": {
      "text/plain": [
       "array([[-0.7568025 ,  0.41211849],\n",
       "       [ 0.14112001, -0.7568025 ],\n",
       "       [ 0.6569866 , -0.95892427]])"
      ]
     },
     "execution_count": 19,
     "metadata": {},
     "output_type": "execute_result"
    }
   ],
   "source": [
    "np.sin(x)"
   ]
  },
  {
   "cell_type": "code",
   "execution_count": 20,
   "metadata": {},
   "outputs": [
    {
     "name": "stdout",
     "output_type": "stream",
     "text": [
      "32\n",
      "5.333333333333333\n",
      "2.0548046676563256\n",
      "3\n",
      "9\n",
      "4.222222222222222\n"
     ]
    }
   ],
   "source": [
    "print(x.sum())\n",
    "print(x.mean())\n",
    "print(x.std())\n",
    "print(x.min())\n",
    "print(x.max())\n",
    "print(x.var())"
   ]
  },
  {
   "cell_type": "code",
   "execution_count": 24,
   "metadata": {},
   "outputs": [
    {
     "name": "stdout",
     "output_type": "stream",
     "text": [
      "(50,)\n",
      "[[0.         0.10204082 0.20408163 0.30612245 0.40816327]\n",
      " [0.51020408 0.6122449  0.71428571 0.81632653 0.91836735]\n",
      " [1.02040816 1.12244898 1.2244898  1.32653061 1.42857143]\n",
      " [1.53061224 1.63265306 1.73469388 1.83673469 1.93877551]\n",
      " [2.04081633 2.14285714 2.24489796 2.34693878 2.44897959]\n",
      " [2.55102041 2.65306122 2.75510204 2.85714286 2.95918367]\n",
      " [3.06122449 3.16326531 3.26530612 3.36734694 3.46938776]\n",
      " [3.57142857 3.67346939 3.7755102  3.87755102 3.97959184]\n",
      " [4.08163265 4.18367347 4.28571429 4.3877551  4.48979592]\n",
      " [4.59183673 4.69387755 4.79591837 4.89795918 5.        ]]\n",
      "(10, 5)\n"
     ]
    }
   ],
   "source": [
    "a= np.linspace(0,5,50)\n",
    "print(a.shape)\n",
    "a2 = a.reshape(10,5)\n",
    "print(a2)                  #converting to 2D array\n",
    "print(a2.shape)"
   ]
  },
  {
   "cell_type": "code",
   "execution_count": 25,
   "metadata": {},
   "outputs": [
    {
     "data": {
      "text/plain": [
       "array([[[0.        , 0.10204082, 0.20408163, 0.30612245, 0.40816327],\n",
       "        [0.51020408, 0.6122449 , 0.71428571, 0.81632653, 0.91836735],\n",
       "        [1.02040816, 1.12244898, 1.2244898 , 1.32653061, 1.42857143],\n",
       "        [1.53061224, 1.63265306, 1.73469388, 1.83673469, 1.93877551],\n",
       "        [2.04081633, 2.14285714, 2.24489796, 2.34693878, 2.44897959]],\n",
       "\n",
       "       [[2.55102041, 2.65306122, 2.75510204, 2.85714286, 2.95918367],\n",
       "        [3.06122449, 3.16326531, 3.26530612, 3.36734694, 3.46938776],\n",
       "        [3.57142857, 3.67346939, 3.7755102 , 3.87755102, 3.97959184],\n",
       "        [4.08163265, 4.18367347, 4.28571429, 4.3877551 , 4.48979592],\n",
       "        [4.59183673, 4.69387755, 4.79591837, 4.89795918, 5.        ]]])"
      ]
     },
     "execution_count": 25,
     "metadata": {},
     "output_type": "execute_result"
    }
   ],
   "source": [
    "a2.reshape(2,5,5)    #converting in 3D array"
   ]
  },
  {
   "cell_type": "code",
   "execution_count": 28,
   "metadata": {},
   "outputs": [
    {
     "name": "stdout",
     "output_type": "stream",
     "text": [
      "[[6 7 4 1 2 7 8 3 9 6]\n",
      " [2 3 4 1 4 3 3 7 6 4]\n",
      " [6 2 1 8 1 5 2 5 8 3]\n",
      " [7 1 1 8 9 8 2 6 1 2]\n",
      " [5 7 6 2 1 1 2 7 7 1]\n",
      " [4 7 3 4 2 3 3 5 1 4]\n",
      " [3 4 1 4 2 9 8 1 8 7]\n",
      " [3 6 4 5 1 4 5 9 7 2]\n",
      " [1 2 3 2 9 5 2 2 2 8]\n",
      " [7 6 6 4 9 6 5 6 7 7]]\n"
     ]
    }
   ],
   "source": [
    "z= np.random.randint(1,10,(10,10))\n",
    "print(z)"
   ]
  },
  {
   "cell_type": "code",
   "execution_count": 31,
   "metadata": {},
   "outputs": [
    {
     "name": "stdout",
     "output_type": "stream",
     "text": [
      "6\n",
      "6\n",
      "7\n",
      "7\n"
     ]
    }
   ],
   "source": [
    "print(z[0,0])\n",
    "print(z[0,-1])\n",
    "print(z[-1,0])\n",
    "print(z[-1,-1])"
   ]
  },
  {
   "cell_type": "code",
   "execution_count": 35,
   "metadata": {},
   "outputs": [
    {
     "name": "stdout",
     "output_type": "stream",
     "text": [
      "[6 7 4 1 2 7 8 3 9 6]\n",
      "[7 6 6 4 9 6 5 6 7 7]\n",
      "[[6 7 4 1 2 7 8 3 9 6]\n",
      " [2 3 4 1 4 3 3 7 6 4]\n",
      " [6 2 1 8 1 5 2 5 8 3]]\n"
     ]
    }
   ],
   "source": [
    "print(z[0])\n",
    "print(z[-1])\n",
    "print(z[:3]) #gives first three rows\n",
    "print(z[:-3]) #gives last three rows"
   ]
  },
  {
   "cell_type": "code",
   "execution_count": 41,
   "metadata": {},
   "outputs": [
    {
     "name": "stdout",
     "output_type": "stream",
     "text": [
      "[6 2 6 7 5 4 3 3 1 7]\n",
      "[6 4 3 2 1 4 7 2 8 7]\n",
      "[[6 7 4]\n",
      " [2 3 4]\n",
      " [6 2 1]\n",
      " [7 1 1]\n",
      " [5 7 6]\n",
      " [4 7 3]\n",
      " [3 4 1]\n",
      " [3 6 4]\n",
      " [1 2 3]\n",
      " [7 6 6]]\n",
      "[[3 9 6]\n",
      " [7 6 4]\n",
      " [5 8 3]\n",
      " [6 1 2]\n",
      " [7 7 1]\n",
      " [5 1 4]\n",
      " [1 8 7]\n",
      " [9 7 2]\n",
      " [2 2 8]\n",
      " [6 7 7]]\n"
     ]
    }
   ],
   "source": [
    "print(z[:,0])#first column\n",
    "print(z[:,-1])#last column\n",
    "print(z[:,:3])#first 3 column\n",
    "print(z[:,-3:])#last 3 column"
   ]
  },
  {
   "cell_type": "code",
   "execution_count": 42,
   "metadata": {},
   "outputs": [
    {
     "name": "stdout",
     "output_type": "stream",
     "text": [
      "[[6 4 1 7]\n",
      " [2 4 1 3]\n",
      " [6 1 8 5]\n",
      " [7 1 8 8]\n",
      " [5 6 2 1]\n",
      " [4 3 4 3]\n",
      " [3 1 4 9]\n",
      " [3 4 5 4]\n",
      " [1 3 2 5]\n",
      " [7 6 4 6]]\n"
     ]
    }
   ],
   "source": [
    "print(z[:,[0,2,3,5]])#gives 0th ,2nd,3rd,5th column"
   ]
  },
  {
   "cell_type": "markdown",
   "metadata": {},
   "source": [
    "- filtering"
   ]
  },
  {
   "cell_type": "code",
   "execution_count": 43,
   "metadata": {},
   "outputs": [
    {
     "data": {
      "text/plain": [
       "array([[6, 7, 4, 1, 2, 7, 8, 3, 9, 6],\n",
       "       [2, 3, 4, 1, 4, 3, 3, 7, 6, 4],\n",
       "       [6, 2, 1, 8, 1, 5, 2, 5, 8, 3],\n",
       "       [7, 1, 1, 8, 9, 8, 2, 6, 1, 2],\n",
       "       [5, 7, 6, 2, 1, 1, 2, 7, 7, 1],\n",
       "       [4, 7, 3, 4, 2, 3, 3, 5, 1, 4],\n",
       "       [3, 4, 1, 4, 2, 9, 8, 1, 8, 7],\n",
       "       [3, 6, 4, 5, 1, 4, 5, 9, 7, 2],\n",
       "       [1, 2, 3, 2, 9, 5, 2, 2, 2, 8],\n",
       "       [7, 6, 6, 4, 9, 6, 5, 6, 7, 7]])"
      ]
     },
     "execution_count": 43,
     "metadata": {},
     "output_type": "execute_result"
    }
   ],
   "source": [
    "z"
   ]
  },
  {
   "cell_type": "code",
   "execution_count": 44,
   "metadata": {},
   "outputs": [
    {
     "data": {
      "text/plain": [
       "array([[False, False,  True,  True,  True, False, False,  True, False,\n",
       "        False],\n",
       "       [ True,  True,  True,  True,  True,  True,  True, False, False,\n",
       "         True],\n",
       "       [False,  True,  True, False,  True, False,  True, False, False,\n",
       "         True],\n",
       "       [False,  True,  True, False, False, False,  True, False,  True,\n",
       "         True],\n",
       "       [False, False, False,  True,  True,  True,  True, False, False,\n",
       "         True],\n",
       "       [ True, False,  True,  True,  True,  True,  True, False,  True,\n",
       "         True],\n",
       "       [ True,  True,  True,  True,  True, False, False,  True, False,\n",
       "        False],\n",
       "       [ True, False,  True, False,  True,  True, False, False, False,\n",
       "         True],\n",
       "       [ True,  True,  True,  True, False, False,  True,  True,  True,\n",
       "        False],\n",
       "       [False, False, False,  True, False, False, False, False, False,\n",
       "        False]])"
      ]
     },
     "execution_count": 44,
     "metadata": {},
     "output_type": "execute_result"
    }
   ],
   "source": [
    "z<5    #boolean filter"
   ]
  },
  {
   "cell_type": "code",
   "execution_count": 45,
   "metadata": {},
   "outputs": [
    {
     "data": {
      "text/plain": [
       "array([4, 1, 2, 3, 2, 3, 4, 1, 4, 3, 3, 4, 2, 1, 1, 2, 3, 1, 1, 2, 1, 2,\n",
       "       2, 1, 1, 2, 1, 4, 3, 4, 2, 3, 3, 1, 4, 3, 4, 1, 4, 2, 1, 3, 4, 1,\n",
       "       4, 2, 1, 2, 3, 2, 2, 2, 2, 4])"
      ]
     },
     "execution_count": 45,
     "metadata": {},
     "output_type": "execute_result"
    }
   ],
   "source": [
    "z[z<5]"
   ]
  },
  {
   "cell_type": "code",
   "execution_count": 49,
   "metadata": {},
   "outputs": [
    {
     "data": {
      "text/plain": [
       "47"
      ]
     },
     "execution_count": 49,
     "metadata": {},
     "output_type": "execute_result"
    }
   ],
   "source": [
    "z[z<3].sum()"
   ]
  },
  {
   "cell_type": "code",
   "execution_count": 47,
   "metadata": {},
   "outputs": [
    {
     "data": {
      "text/plain": [
       "array([6, 4, 3, 6, 3, 4, 4, 3, 3, 6, 4, 6, 5, 5, 3, 6, 5, 6, 4, 3, 4, 3,\n",
       "       3, 5, 4, 3, 4, 4, 3, 6, 4, 5, 4, 5, 3, 5, 6, 6, 4, 6, 5, 6])"
      ]
     },
     "execution_count": 47,
     "metadata": {},
     "output_type": "execute_result"
    }
   ],
   "source": [
    "z[(z>=3) & (z <=6)]"
   ]
  },
  {
   "cell_type": "code",
   "execution_count": 48,
   "metadata": {},
   "outputs": [
    {
     "name": "stdout",
     "output_type": "stream",
     "text": [
      "\u001b[1;31mDocstring:\u001b[0m\n",
      "rand(d0, d1, ..., dn)\n",
      "\n",
      "Random values in a given shape.\n",
      "\n",
      ".. note::\n",
      "    This is a convenience function for users porting code from Matlab,\n",
      "    and wraps `random_sample`. That function takes a\n",
      "    tuple to specify the size of the output, which is consistent with\n",
      "    other NumPy functions like `numpy.zeros` and `numpy.ones`.\n",
      "\n",
      "Create an array of the given shape and populate it with\n",
      "random samples from a uniform distribution\n",
      "over ``[0, 1)``.\n",
      "\n",
      "Parameters\n",
      "----------\n",
      "d0, d1, ..., dn : int, optional\n",
      "    The dimensions of the returned array, must be non-negative.\n",
      "    If no argument is given a single Python float is returned.\n",
      "\n",
      "Returns\n",
      "-------\n",
      "out : ndarray, shape ``(d0, d1, ..., dn)``\n",
      "    Random values.\n",
      "\n",
      "See Also\n",
      "--------\n",
      "random\n",
      "\n",
      "Examples\n",
      "--------\n",
      ">>> np.random.rand(3,2)\n",
      "array([[ 0.14022471,  0.96360618],  #random\n",
      "       [ 0.37601032,  0.25528411],  #random\n",
      "       [ 0.49313049,  0.94909878]]) #random\n",
      "\u001b[1;31mType:\u001b[0m      builtin_function_or_method"
     ]
    }
   ],
   "source": [
    "np.random.rand?      #gives description of the functions in numpy"
   ]
  },
  {
   "cell_type": "code",
   "execution_count": null,
   "metadata": {},
   "outputs": [],
   "source": []
  }
 ],
 "metadata": {
  "kernelspec": {
   "display_name": "base",
   "language": "python",
   "name": "python3"
  },
  "language_info": {
   "codemirror_mode": {
    "name": "ipython",
    "version": 3
   },
   "file_extension": ".py",
   "mimetype": "text/x-python",
   "name": "python",
   "nbconvert_exporter": "python",
   "pygments_lexer": "ipython3",
   "version": "3.11.4"
  },
  "orig_nbformat": 4
 },
 "nbformat": 4,
 "nbformat_minor": 2
}
