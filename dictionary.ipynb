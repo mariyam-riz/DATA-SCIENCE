{
 "cells": [
  {
   "cell_type": "code",
   "execution_count": 1,
   "metadata": {},
   "outputs": [
    {
     "name": "stdout",
     "output_type": "stream",
     "text": [
      "{'English': 56, 'Hindi': 90, 'Maths': 34, 'Chemistry': 34, 'Evs': 56}\n"
     ]
    }
   ],
   "source": [
    "raju = [56,90,34,34,56]\n",
    "raju_dict ={\n",
    "    'English' : 56,\n",
    "    'Hindi' : 90,\n",
    "    'Maths' : 34,\n",
    "    'Chemistry' : 34,\n",
    "    'Evs' : 56,\n",
    "}\n",
    "\n",
    "print(raju_dict)"
   ]
  },
  {
   "cell_type": "code",
   "execution_count": 2,
   "metadata": {},
   "outputs": [],
   "source": [
    "company = {\n",
    "    'emp001' : {\n",
    "        'name' : 'Amar Kumar',\n",
    "        'designation' : 'Assistant III',\n",
    "        'salary' : '32000'\n",
    "    },\n",
    "    'emp002' : {\n",
    "        'name' : 'Ranu Singh',\n",
    "        'designation' : 'Staff Officer',\n",
    "        'salary' : 89000\n",
    "    },\n",
    "    'total_emp' : 2,\n",
    "    'department' : 'Accounts',\n",
    "    'vacancy' : ['clerk','manager','assistant I']\n",
    "}"
   ]
  },
  {
   "cell_type": "code",
   "execution_count": 3,
   "metadata": {},
   "outputs": [
    {
     "name": "stdout",
     "output_type": "stream",
     "text": [
      "{'emp001': {'name': 'Amar Kumar', 'designation': 'Assistant III', 'salary': '32000'}, 'emp002': {'name': 'Ranu Singh', 'designation': 'Staff Officer', 'salary': 89000}, 'total_emp': 2, 'department': 'Accounts', 'vacancy': ['clerk', 'manager', 'assistant I'], 'name': 'Acme inc.'}\n"
     ]
    }
   ],
   "source": [
    "company['name'] = 'Acme inc.'        #adding a key and value to dict\n",
    "print(company)"
   ]
  },
  {
   "cell_type": "code",
   "execution_count": 5,
   "metadata": {},
   "outputs": [
    {
     "name": "stdout",
     "output_type": "stream",
     "text": [
      "{'emp001': {'name': 'Amar Kumar', 'designation': 'Assistant III', 'salary': '32000'}, 'emp002': {'name': 'Ranu Singh', 'designation': 'Staff Officer', 'salary': 89000}, 'total_emp': 3, 'department': 'Accounts', 'vacancy': ['clerk', 'manager', 'assistant I'], 'name': 'Acme inc.', 'emp003': {'name': 'Ajay varma', 'designation': 'clerk', 'salary': 45000}}\n"
     ]
    }
   ],
   "source": [
    "\n",
    "company['total_emp'] = 3 #changing already exisiting keys' value\n",
    "company['emp003'] = {\n",
    "    'name' : 'Ajay varma',\n",
    "    'designation' : 'clerk',\n",
    "    'salary' : 45000\n",
    "}\n",
    "company['emp001']\n",
    "print(company)"
   ]
  },
  {
   "cell_type": "code",
   "execution_count": 7,
   "metadata": {},
   "outputs": [
    {
     "name": "stdout",
     "output_type": "stream",
     "text": [
      "website doesnt exist in dictionary\n"
     ]
    }
   ],
   "source": [
    "#fetching value \n",
    "company.get('website')  \n",
    "if 'website' in company:\n",
    "    print('website exist in dict')\n",
    "else:\n",
    "    print('website doesnt exist in dictionary')"
   ]
  },
  {
   "cell_type": "code",
   "execution_count": 8,
   "metadata": {},
   "outputs": [
    {
     "name": "stdout",
     "output_type": "stream",
     "text": [
      "dict_keys(['emp001', 'emp002', 'total_emp', 'department', 'vacancy', 'name', 'emp003'])\n",
      "dict_values([{'name': 'Amar Kumar', 'designation': 'Assistant III', 'salary': '32000'}, {'name': 'Ranu Singh', 'designation': 'Staff Officer', 'salary': 89000}, 3, 'Accounts', ['clerk', 'manager', 'assistant I'], 'Acme inc.', {'name': 'Ajay varma', 'designation': 'clerk', 'salary': 45000}])\n"
     ]
    }
   ],
   "source": [
    "#printing the keys and values respectively\n",
    "print(company.keys())\n",
    "print(company.values())"
   ]
  },
  {
   "cell_type": "code",
   "execution_count": 9,
   "metadata": {},
   "outputs": [
    {
     "name": "stdout",
     "output_type": "stream",
     "text": [
      "dict_items([('emp001', {'name': 'Amar Kumar', 'designation': 'Assistant III', 'salary': '32000'}), ('emp002', {'name': 'Ranu Singh', 'designation': 'Staff Officer', 'salary': 89000}), ('total_emp', 3), ('department', 'Accounts'), ('vacancy', ['clerk', 'manager', 'assistant I']), ('name', 'Acme inc.'), ('emp003', {'name': 'Ajay varma', 'designation': 'clerk', 'salary': 45000})])\n"
     ]
    }
   ],
   "source": [
    "print(company.items()) #items() method is used to return the list with all dictionary keys with values."
   ]
  },
  {
   "cell_type": "code",
   "execution_count": 10,
   "metadata": {},
   "outputs": [
    {
     "name": "stdout",
     "output_type": "stream",
     "text": [
      "emp001 {'name': 'Amar Kumar', 'designation': 'Assistant III', 'salary': '32000'}\n",
      "emp002 {'name': 'Ranu Singh', 'designation': 'Staff Officer', 'salary': 89000}\n",
      "total_emp 3\n",
      "department Accounts\n",
      "vacancy ['clerk', 'manager', 'assistant I']\n",
      "name Acme inc.\n",
      "emp003 {'name': 'Ajay varma', 'designation': 'clerk', 'salary': 45000}\n"
     ]
    }
   ],
   "source": [
    "for k,v in company.items():\n",
    "    print(k,v)"
   ]
  },
  {
   "cell_type": "code",
   "execution_count": 11,
   "metadata": {},
   "outputs": [
    {
     "name": "stdout",
     "output_type": "stream",
     "text": [
      "emp001\n",
      "---> name Amar Kumar\n",
      "---> designation Assistant III\n",
      "---> salary 32000\n",
      "emp002\n",
      "---> name Ranu Singh\n",
      "---> designation Staff Officer\n",
      "---> salary 89000\n",
      "total_emp 3\n",
      "department Accounts\n",
      "vacancy ['clerk', 'manager', 'assistant I']\n",
      "name Acme inc.\n",
      "emp003\n",
      "---> name Ajay varma\n",
      "---> designation clerk\n",
      "---> salary 45000\n"
     ]
    }
   ],
   "source": [
    "for k,v in company.items():\n",
    "    if isinstance(v,dict):\n",
    "        print(k)\n",
    "        for key,value in v.items():\n",
    "            print('--->',key,value)\n",
    "    else:\n",
    "        print(k,v)"
   ]
  },
  {
   "cell_type": "code",
   "execution_count": 12,
   "metadata": {},
   "outputs": [
    {
     "name": "stdout",
     "output_type": "stream",
     "text": [
      "{'egg': 10, 'milk': 35, 'chocolate': 85}\n"
     ]
    }
   ],
   "source": [
    "# wap to create a dict which takes user input and stores the name of item and its price\n",
    "Inputs = int(input(\"Enter number of items:\"))\n",
    "dict = {}\n",
    "for i in range(Inputs):\n",
    "    items = input('Enter a item:')\n",
    "    price = int(input('Enter the price:'))\n",
    "    dict[items] = price\n",
    "print(dict)"
   ]
  },
  {
   "cell_type": "code",
   "execution_count": null,
   "metadata": {},
   "outputs": [],
   "source": []
  }
 ],
 "metadata": {
  "kernelspec": {
   "display_name": "base",
   "language": "python",
   "name": "python3"
  },
  "language_info": {
   "codemirror_mode": {
    "name": "ipython",
    "version": 3
   },
   "file_extension": ".py",
   "mimetype": "text/x-python",
   "name": "python",
   "nbconvert_exporter": "python",
   "pygments_lexer": "ipython3",
   "version": "3.11.4"
  },
  "orig_nbformat": 4
 },
 "nbformat": 4,
 "nbformat_minor": 2
}
