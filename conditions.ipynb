{
 "cells": [
  {
   "cell_type": "markdown",
   "metadata": {},
   "source": [
    "conditionals\n",
    "- if\n",
    "- if else\n",
    "- if elif else\n",
    "- match case"
   ]
  },
  {
   "cell_type": "markdown",
   "metadata": {},
   "source": []
  },
  {
   "cell_type": "code",
   "execution_count": 5,
   "metadata": {},
   "outputs": [
    {
     "name": "stdout",
     "output_type": "stream",
     "text": [
      "x is greater than y\n",
      "that is true\n",
      "this is always printed\n"
     ]
    }
   ],
   "source": [
    "x=10\n",
    "y=3\n",
    "if x>y:\n",
    " print(\"x is greater than y\")\n",
    " print('that is true')\n",
    "print('this is always printed')"
   ]
  },
  {
   "cell_type": "code",
   "execution_count": 6,
   "metadata": {},
   "outputs": [],
   "source": [
    "if x==y:\n",
    "    print('okay')"
   ]
  },
  {
   "cell_type": "code",
   "execution_count": 8,
   "metadata": {},
   "outputs": [
    {
     "name": "stdout",
     "output_type": "stream",
     "text": [
      "x is greater than y and x is greater than 8\n"
     ]
    }
   ],
   "source": [
    "if x>y and x>8:\n",
    "    print('x is greater than y and x is greater than 8')"
   ]
  },
  {
   "cell_type": "code",
   "execution_count": null,
   "metadata": {},
   "outputs": [],
   "source": []
  },
  {
   "cell_type": "markdown",
   "metadata": {},
   "source": [
    "TRUE VALUES\n",
    "- True\n",
    "- non zero numbers\n",
    "- non empty strings\n",
    "\n",
    "\n",
    "FALSE VALUES\n",
    "- False\n",
    "- 0\n",
    "- 0.0\n",
    "- None \n",
    "- empty strings"
   ]
  },
  {
   "cell_type": "markdown",
   "metadata": {},
   "source": []
  },
  {
   "cell_type": "code",
   "execution_count": 11,
   "metadata": {},
   "outputs": [
    {
     "name": "stdout",
     "output_type": "stream",
     "text": [
      "you entered ✨mariyam✨\n"
     ]
    }
   ],
   "source": [
    "name= input('Enter a name')\n",
    "if name:  #name here is a true value hence can be used to check a condition \n",
    "    print(f'you entered ✨{name}✨')\n",
    "else :\n",
    "    print('you did not enter a name')"
   ]
  },
  {
   "cell_type": "code",
   "execution_count": 15,
   "metadata": {},
   "outputs": [
    {
     "name": "stdout",
     "output_type": "stream",
     "text": [
      "number is even\n"
     ]
    }
   ],
   "source": [
    "#program for checking even and odd\n",
    "number = int(input('enter a number'))\n",
    "if number % 2== 0:\n",
    "    print('number is even')\n",
    "else:\n",
    "    print('number is odd.')"
   ]
  },
  {
   "cell_type": "code",
   "execution_count": null,
   "metadata": {},
   "outputs": [],
   "source": []
  },
  {
   "cell_type": "code",
   "execution_count": 18,
   "metadata": {},
   "outputs": [
    {
     "name": "stdout",
     "output_type": "stream",
     "text": [
      "welcome\n"
     ]
    }
   ],
   "source": [
    "\n",
    "#nested if\n",
    "username = input('enter username')\n",
    "password = input('enter password')\n",
    "if username == 'admin':\n",
    "    if password == '123admin':\n",
    "        print('welcome')\n",
    "    else:\n",
    "        print('invalid password')\n",
    "else:\n",
    "    print('invalid username')"
   ]
  },
  {
   "cell_type": "code",
   "execution_count": 20,
   "metadata": {},
   "outputs": [
    {
     "name": "stdout",
     "output_type": "stream",
     "text": [
      "holiday\n"
     ]
    }
   ],
   "source": [
    "day=input('enter day')\n",
    "if day =='monday':\n",
    "    print('monday')\n",
    "elif day== 'tuesday':\n",
    "    print('tuesday')\n",
    "else:\n",
    "    print('holiday')\n"
   ]
  },
  {
   "cell_type": "code",
   "execution_count": 21,
   "metadata": {},
   "outputs": [
    {
     "name": "stdout",
     "output_type": "stream",
     "text": [
      "holiday\n"
     ]
    }
   ],
   "source": [
    "day = input('enter day')\n",
    "match day:\n",
    "    case'monday':\n",
    "        print('time to work')\n",
    "    case'tuesday'|'wednesday': #pipe symbol cannot be used in if rather we have to use OR in if.\n",
    "        print('time to work')\n",
    "    case'thurday':\n",
    "        print('time to work')\n",
    "    case _:\n",
    "        print('holiday')"
   ]
  },
  {
   "cell_type": "code",
   "execution_count": 24,
   "metadata": {},
   "outputs": [
    {
     "name": "stdout",
     "output_type": "stream",
     "text": [
      "gemini\n"
     ]
    }
   ],
   "source": [
    "#program for zodiac signs\n",
    "month = input('enter month')\n",
    "match month:\n",
    "    case'january':\n",
    "        print('capricorn')\n",
    "    case'february':\n",
    "        print('saggitarius')\n",
    "    case'march':\n",
    "        print('pisces')\n",
    "    case 'april':\n",
    "        print('leo')\n",
    "    case'may':\n",
    "        print('libra')\n",
    "    case'june':\n",
    "        print('cancer')\n",
    "    case 'july':\n",
    "        print('aries')\n",
    "    case'august':\n",
    "        print('taurus')\n",
    "    case'september':\n",
    "        print('gemini')\n",
    "    case _:\n",
    "        print('invalid month')"
   ]
  },
  {
   "cell_type": "code",
   "execution_count": null,
   "metadata": {},
   "outputs": [],
   "source": []
  }
 ],
 "metadata": {
  "kernelspec": {
   "display_name": "base",
   "language": "python",
   "name": "python3"
  },
  "language_info": {
   "codemirror_mode": {
    "name": "ipython",
    "version": 3
   },
   "file_extension": ".py",
   "mimetype": "text/x-python",
   "name": "python",
   "nbconvert_exporter": "python",
   "pygments_lexer": "ipython3",
   "version": "3.10.10"
  },
  "orig_nbformat": 4
 },
 "nbformat": 4,
 "nbformat_minor": 2
}
