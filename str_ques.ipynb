{
 "cells": [
  {
   "cell_type": "code",
   "execution_count": 1,
   "metadata": {},
   "outputs": [
    {
     "name": "stdout",
     "output_type": "stream",
     "text": [
      "hello world\n"
     ]
    }
   ],
   "source": [
    "# 1.Create a string and print it.\n",
    "str = 'hello world'\n",
    "print(str)"
   ]
  },
  {
   "cell_type": "code",
   "execution_count": 2,
   "metadata": {},
   "outputs": [
    {
     "name": "stdout",
     "output_type": "stream",
     "text": [
      "3\n"
     ]
    }
   ],
   "source": [
    "# 2.take a string input and print it's length.\n",
    "str1 = input('enter a string')\n",
    "print(len(str1))"
   ]
  },
  {
   "cell_type": "code",
   "execution_count": 6,
   "metadata": {},
   "outputs": [
    {
     "name": "stdout",
     "output_type": "stream",
     "text": [
      "t\n"
     ]
    }
   ],
   "source": [
    "# 3.Print the last word of the string 'Python is great' using slices.\n",
    "str = \"Python is great\"\n",
    "last_word = print(str[-1])"
   ]
  },
  {
   "cell_type": "code",
   "execution_count": 1,
   "metadata": {},
   "outputs": [
    {
     "name": "stdout",
     "output_type": "stream",
     "text": [
      "python\n",
      "is\n",
      "everywhere\n"
     ]
    }
   ],
   "source": [
    "# 4.Print each word in different line of string \"python is everywhere.\"\n",
    "str = 'python is everywhere'\n",
    "str1 = str.split()\n",
    "for i in str1:\n",
    "    print(i)\n",
    "\n"
   ]
  },
  {
   "cell_type": "code",
   "execution_count": 17,
   "metadata": {},
   "outputs": [
    {
     "name": "stdout",
     "output_type": "stream",
     "text": [
      "!dlrow olleh\n"
     ]
    }
   ],
   "source": [
    "# 5.Print the string Hello World! in reverse.\n",
    "str = 'hello world!'\n",
    "print(str[::-1])"
   ]
  },
  {
   "cell_type": "code",
   "execution_count": 20,
   "metadata": {},
   "outputs": [
    {
     "name": "stdout",
     "output_type": "stream",
     "text": [
      "HOW ARE YOU?\n"
     ]
    }
   ],
   "source": [
    "# 6.convert the string How are you? in uppercase.\n",
    "str = 'How are you?'\n",
    "print(str.upper())"
   ]
  },
  {
   "cell_type": "code",
   "execution_count": 21,
   "metadata": {},
   "outputs": [
    {
     "name": "stdout",
     "output_type": "stream",
     "text": [
      "how is it going?\n"
     ]
    }
   ],
   "source": [
    "# 7.Convert the string How Is It Going? in lowercase.\n",
    "str = 'How Is It Going?'\n",
    "print(str.lower())"
   ]
  },
  {
   "cell_type": "code",
   "execution_count": 22,
   "metadata": {},
   "outputs": [
    {
     "name": "stdout",
     "output_type": "stream",
     "text": [
      "pythoniseasytolearn\n"
     ]
    }
   ],
   "source": [
    "# 8.join the following list by spaces( ) and print the result.\n",
    "words = ['python','is','easy','to','learn']\n",
    "print(''.join(words))"
   ]
  },
  {
   "cell_type": "code",
   "execution_count": 23,
   "metadata": {},
   "outputs": [
    {
     "name": "stdout",
     "output_type": "stream",
     "text": [
      " hey\n",
      "how are you doing today\n",
      "hope you are well\n"
     ]
    }
   ],
   "source": [
    "# 9.Print a multiline string using a single print\n",
    "str = ''' hey\n",
    "how are you doing today\n",
    "hope you are well'''\n",
    "print(str)"
   ]
  },
  {
   "cell_type": "code",
   "execution_count": 2,
   "metadata": {},
   "outputs": [
    {
     "name": "stdout",
     "output_type": "stream",
     "text": [
      "to move to newline '\\n'\n"
     ]
    }
   ],
   "source": [
    "# 10.Print this string to move to newline '\\n' is used. (results should look exactly like the provided string)\n",
    "str = (r\"to move to newline '\\n'\")  #raw strings are thhe strings in which the characters are printed as it is without recognising any special character\n",
    "print(str)"
   ]
  },
  {
   "cell_type": "code",
   "execution_count": 29,
   "metadata": {},
   "outputs": [
    {
     "name": "stdout",
     "output_type": "stream",
     "text": [
      "the variable is 15\n"
     ]
    }
   ],
   "source": [
    "#11. Print a variable with some text using a single print function, output should look like following\n",
    "#the variable is 15\n",
    "number = input('enter a number')\n",
    "print (f'the variable is {number}')"
   ]
  },
  {
   "cell_type": "code",
   "execution_count": 32,
   "metadata": {},
   "outputs": [
    {
     "name": "stdout",
     "output_type": "stream",
     "text": [
      "python is great.\n"
     ]
    }
   ],
   "source": [
    "# 12. concatenate the following strings and print the result\n",
    "s1 = 'python '\n",
    "s2 = 'is '\n",
    "s3 = 'great.'\n",
    "str = s1+s2+s3\n",
    "print(str)"
   ]
  },
  {
   "cell_type": "code",
   "execution_count": 33,
   "metadata": {},
   "outputs": [
    {
     "name": "stdout",
     "output_type": "stream",
     "text": [
      "####################\n"
     ]
    }
   ],
   "source": [
    "# 13. Print # 20 times without using a loop\n",
    "str = \"#\"\n",
    "print (str*20)"
   ]
  },
  {
   "cell_type": "code",
   "execution_count": 38,
   "metadata": {},
   "outputs": [
    {
     "name": "stdout",
     "output_type": "stream",
     "text": [
      "1 .\n",
      "2 .\n",
      "3 .\n",
      "4 .\n",
      "5 .\n",
      "6 .\n",
      "7 .\n",
      "8 .\n",
      "9 .\n"
     ]
    }
   ],
   "source": [
    "''' 14. Print numbers from 1 to 9, each on a seperate line, followed by a dot, output should look like the following-\n",
    "1.\n",
    "2.\n",
    "3.'''\n",
    "for i in range(1,10):      #1 in thye range function means that the loop is starting with one.\n",
    "    print(i,\".\")"
   ]
  },
  {
   "cell_type": "code",
   "execution_count": 46,
   "metadata": {},
   "outputs": [
    {
     "name": "stdout",
     "output_type": "stream",
     "text": [
      "hy\n",
      "mam\n"
     ]
    }
   ],
   "source": [
    "# 15. Ask user to input a sentence and print each word in diff line\n",
    "sentence = input('enter a sentence')\n",
    "sentence = sentence.split()\n",
    "for i in sentence:\n",
    "    print(i)\n"
   ]
  },
  {
   "cell_type": "code",
   "execution_count": 48,
   "metadata": {},
   "outputs": [
    {
     "name": "stdout",
     "output_type": "stream",
     "text": [
      "true\n"
     ]
    }
   ],
   "source": [
    "# 16.Ask user to input a string and check if the string ends with '?'\n",
    "str = input('enter a string')\n",
    "if (str[-1] == '?'):\n",
    "    print('true')\n",
    "else:\n",
    "    print('false')"
   ]
  },
  {
   "cell_type": "code",
   "execution_count": 51,
   "metadata": {},
   "outputs": [
    {
     "name": "stdout",
     "output_type": "stream",
     "text": [
      "3\n"
     ]
    }
   ],
   "source": [
    "# 17.Ask user to input a string and print how many times e appeared in the string\n",
    "str = input('enter a string')\n",
    "print(str.count('e'))"
   ]
  },
  {
   "cell_type": "code",
   "execution_count": 53,
   "metadata": {},
   "outputs": [
    {
     "name": "stdout",
     "output_type": "stream",
     "text": [
      "True\n"
     ]
    }
   ],
   "source": [
    "#18. Check if the user input is a number.\n",
    "var =input('enter something')\n",
    "print(var.isnumeric())"
   ]
  },
  {
   "cell_type": "code",
   "execution_count": 54,
   "metadata": {},
   "outputs": [
    {
     "name": "stdout",
     "output_type": "stream",
     "text": [
      "this is not a good string\n"
     ]
    }
   ],
   "source": [
    "# 19.Remove the extra spaces in beginning and in the end of the following string-\n",
    "text = '   this is not a good string           '\n",
    "print(text.strip())"
   ]
  },
  {
   "cell_type": "code",
   "execution_count": 3,
   "metadata": {},
   "outputs": [
    {
     "name": "stdout",
     "output_type": "stream",
     "text": [
      "found\n"
     ]
    }
   ],
   "source": [
    "# 20.Ask user to input string, print found if any of the character is upper case.\n",
    "str =input('enter a string')\n",
    "result = False\n",
    "for i in str:\n",
    " if(i.isupper()== True):\n",
    "    result = True\n",
    "    break\n",
    "\n",
    "if(result == True):\n",
    "  print('found')\n",
    "else:\n",
    "  print('not found')\n"
   ]
  }
 ],
 "metadata": {
  "kernelspec": {
   "display_name": "base",
   "language": "python",
   "name": "python3"
  },
  "language_info": {
   "codemirror_mode": {
    "name": "ipython",
    "version": 3
   },
   "file_extension": ".py",
   "mimetype": "text/x-python",
   "name": "python",
   "nbconvert_exporter": "python",
   "pygments_lexer": "ipython3",
   "version": "3.11.4"
  },
  "orig_nbformat": 4
 },
 "nbformat": 4,
 "nbformat_minor": 2
}
