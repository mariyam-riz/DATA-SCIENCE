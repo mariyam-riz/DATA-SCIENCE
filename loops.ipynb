{
 "cells": [
  {
   "cell_type": "markdown",
   "metadata": {},
   "source": [
    "for temp_var in iterable:\n",
    " satetment1\n",
    " ....\n",
    " statementn\n",
    "\n",
    " iterables are string,list,tuple,set,dict,generators etc"
   ]
  },
  {
   "cell_type": "code",
   "execution_count": 1,
   "metadata": {},
   "outputs": [
    {
     "name": "stdout",
     "output_type": "stream",
     "text": [
      "1\n",
      "now printing squares of this number\n",
      "1\n",
      "23\n",
      "now printing squares of this number\n",
      "529\n",
      "5\n",
      "now printing squares of this number\n",
      "25\n",
      "3\n",
      "now printing squares of this number\n",
      "9\n",
      "6\n",
      "now printing squares of this number\n",
      "36\n",
      "3\n",
      "now printing squares of this number\n",
      "9\n",
      "21\n",
      "now printing squares of this number\n",
      "441\n",
      "6\n",
      "now printing squares of this number\n",
      "36\n",
      "6\n",
      "now printing squares of this number\n",
      "36\n"
     ]
    }
   ],
   "source": [
    "#for\n",
    "nums=[1,23,5,3,6,3,21,6,6]#list of numbers\n",
    "for i in nums:\n",
    "    print(i)\n",
    "    print('now printing squares of this number')\n",
    "    print(i**2)"
   ]
  },
  {
   "cell_type": "markdown",
   "metadata": {},
   "source": [
    "- enumerate\n",
    "- zip"
   ]
  },
  {
   "cell_type": "code",
   "execution_count": 2,
   "metadata": {},
   "outputs": [
    {
     "name": "stdout",
     "output_type": "stream",
     "text": [
      "john 0\n",
      "jack 1\n",
      "jesssica 2\n",
      "jill 3\n"
     ]
    }
   ],
   "source": [
    "names= ['john','jack','jesssica','jill'] #enumerate is used to give the value and index of a single list or iterable\n",
    "for idx, name in enumerate(names):\n",
    "    print(name,idx)\n"
   ]
  },
  {
   "cell_type": "code",
   "execution_count": 3,
   "metadata": {},
   "outputs": [
    {
     "name": "stdout",
     "output_type": "stream",
     "text": [
      "2\n",
      "12\n",
      "30\n",
      "56\n",
      "90\n"
     ]
    }
   ],
   "source": [
    "x =[2,4,6,8,10]  #zip is used to used more than list or iterables in a single loop\n",
    "y= [1,3,5,7,9]\n",
    "for i,j in zip(x,y):\n",
    "    print(i*j)"
   ]
  },
  {
   "cell_type": "code",
   "execution_count": 4,
   "metadata": {},
   "outputs": [
    {
     "name": "stdout",
     "output_type": "stream",
     "text": [
      "interstellar        4⭐\n",
      "apollo 13           5⭐\n",
      "the martian         2⭐\n",
      "gravity             3⭐\n"
     ]
    }
   ],
   "source": [
    "movies=['interstellar','apollo 13','the martian','gravity' ]\n",
    "rating = [4,5,2,3]\n",
    "\n",
    "for name,star in zip(movies,rating):\n",
    "    print(f'{name:20}{star}⭐')\n"
   ]
  },
  {
   "cell_type": "code",
   "execution_count": 5,
   "metadata": {},
   "outputs": [
    {
     "name": "stdout",
     "output_type": "stream",
     "text": [
      "123"
     ]
    }
   ],
   "source": [
    "x = [1,2,3,0,2,2,1,3,0,4,5,1,2,4,5]\n",
    "for i in x:\n",
    "    if i ==0:\n",
    "        break\n",
    "    print(i,end='')"
   ]
  },
  {
   "cell_type": "code",
   "execution_count": 6,
   "metadata": {},
   "outputs": [
    {
     "name": "stdout",
     "output_type": "stream",
     "text": [
      "32243436757loop  completed\n"
     ]
    }
   ],
   "source": [
    "x=[3,2,2,43,4,3,6,7,5,7]\n",
    "for i in x:\n",
    "    if i ==0:\n",
    "        break\n",
    "    print(i,end='')\n",
    "else:\n",
    "    print('loop  completed')"
   ]
  },
  {
   "cell_type": "code",
   "execution_count": 8,
   "metadata": {},
   "outputs": [
    {
     "name": "stdout",
     "output_type": "stream",
     "text": [
      "7%2=1\n",
      "7%3=1\n",
      "7%4=3\n",
      "7%5=2\n",
      "7%6=1\n",
      "prime\n"
     ]
    }
   ],
   "source": [
    "num = int(input('enter a number'))\n",
    "for i in range(2,num):\n",
    "    print(f'{num}%{i}={num%i}')\n",
    "    if num % i == 0:\n",
    "        print('not prime')\n",
    "        break\n",
    "else:\n",
    "    print('prime')"
   ]
  },
  {
   "cell_type": "code",
   "execution_count": null,
   "metadata": {},
   "outputs": [
    {
     "name": "stdout",
     "output_type": "stream",
     "text": [
      "123516731233"
     ]
    }
   ],
   "source": [
    "x=[1,2,3,None,5,1,None,6,7,None,3,1,2,3,None,3]\n",
    "for num in x:\n",
    "    if num is None:\n",
    "        continue\n",
    "    print(num,end='')"
   ]
  },
  {
   "cell_type": "code",
   "execution_count": null,
   "metadata": {},
   "outputs": [
    {
     "name": "stdout",
     "output_type": "stream",
     "text": [
      "123516731233"
     ]
    }
   ],
   "source": [
    "x=[1,2,3,None,5,1,None,6,7,None,3,1,2,3,None,3]\n",
    "for num in x:\n",
    "    if num is not None:\n",
    "        print(num,end='')\n",
    "        "
   ]
  },
  {
   "cell_type": "code",
   "execution_count": null,
   "metadata": {},
   "outputs": [
    {
     "name": "stdout",
     "output_type": "stream",
     "text": [
      "27\n"
     ]
    }
   ],
   "source": [
    "x=[1,2,3,None,5,1,None,6,7,None,3,1,2,3,None,3]\n",
    "ans=0\n",
    "for num in x:\n",
    "    if (num is not None and num % 2 !=0):\n",
    "        ans  += num\n",
    "print(ans)"
   ]
  },
  {
   "cell_type": "code",
   "execution_count": null,
   "metadata": {},
   "outputs": [
    {
     "name": "stdout",
     "output_type": "stream",
     "text": [
      "27\n"
     ]
    }
   ],
   "source": [
    "x=[1,2,3,5,1,6,7,3,1,2,3,3]\n",
    "ans=0\n",
    "for num in x:\n",
    "    if (num % 2 !=0):\n",
    "        ans += num\n",
    "print(ans)"
   ]
  }
 ],
 "metadata": {
  "kernelspec": {
   "display_name": "base",
   "language": "python",
   "name": "python3"
  },
  "language_info": {
   "codemirror_mode": {
    "name": "ipython",
    "version": 3
   },
   "file_extension": ".py",
   "mimetype": "text/x-python",
   "name": "python",
   "nbconvert_exporter": "python",
   "pygments_lexer": "ipython3",
   "version": "3.11.4"
  },
  "orig_nbformat": 4
 },
 "nbformat": 4,
 "nbformat_minor": 2
}
